{
 "cells": [
  {
   "cell_type": "markdown",
   "id": "385a0d11",
   "metadata": {},
   "source": [
    "This notebook contains:\n",
    "\n",
    "01) Using the groupby function\n",
    "\n",
    "02) Aggregating values such as mean, median, min and max\n"
   ]
  },
  {
   "cell_type": "markdown",
   "id": "2d3b0117",
   "metadata": {},
   "source": [
    "01. starting new notebook"
   ]
  },
  {
   "cell_type": "code",
   "execution_count": 1,
   "id": "44b14bf1",
   "metadata": {},
   "outputs": [],
   "source": [
    "# Importing libraries\n",
    "import pandas as pd\n",
    "import numpy as np\n",
    "import os"
   ]
  },
  {
   "cell_type": "markdown",
   "id": "364c9dbc",
   "metadata": {},
   "source": [
    "02. Establishing path and importing dataframe"
   ]
  },
  {
   "cell_type": "code",
   "execution_count": 2,
   "id": "199461f6",
   "metadata": {},
   "outputs": [],
   "source": [
    "# Establishing a path to import data frames\n",
    "path = r'C:\\Users\\Paola\\Desktop\\Shaul\\Data\\CF\\August-2023 Instacart Basket Analysis'"
   ]
  },
  {
   "cell_type": "code",
   "execution_count": 3,
   "id": "7efd6d37",
   "metadata": {},
   "outputs": [
    {
     "data": {
      "text/plain": [
       "'C:\\\\Users\\\\Paola\\\\Desktop\\\\Shaul\\\\Data\\\\CF\\\\August-2023 Instacart Basket Analysis'"
      ]
     },
     "execution_count": 3,
     "metadata": {},
     "output_type": "execute_result"
    }
   ],
   "source": [
    "path"
   ]
  },
  {
   "cell_type": "code",
   "execution_count": 41,
   "id": "0f608465",
   "metadata": {},
   "outputs": [],
   "source": [
    "# Importing 'orders_products_variablesfixed.pkl' data set\n",
    "df_ords_prods = pd.read_pickle(os.path.join(path, '2-Data', 'Prepared Data', 'orders_products_variablesfixed.pkl'))"
   ]
  },
  {
   "cell_type": "code",
   "execution_count": 42,
   "id": "8bc875c8",
   "metadata": {},
   "outputs": [
    {
     "data": {
      "text/plain": [
       "(32435070, 16)"
      ]
     },
     "execution_count": 42,
     "metadata": {},
     "output_type": "execute_result"
    }
   ],
   "source": [
    "# Checking dimensions and variables of the dataframe\n",
    "df_ords_prods.shape"
   ]
  },
  {
   "cell_type": "code",
   "execution_count": 43,
   "id": "ab297379",
   "metadata": {},
   "outputs": [
    {
     "data": {
      "text/html": [
       "<div>\n",
       "<style scoped>\n",
       "    .dataframe tbody tr th:only-of-type {\n",
       "        vertical-align: middle;\n",
       "    }\n",
       "\n",
       "    .dataframe tbody tr th {\n",
       "        vertical-align: top;\n",
       "    }\n",
       "\n",
       "    .dataframe thead th {\n",
       "        text-align: right;\n",
       "    }\n",
       "</style>\n",
       "<table border=\"1\" class=\"dataframe\">\n",
       "  <thead>\n",
       "    <tr style=\"text-align: right;\">\n",
       "      <th></th>\n",
       "      <th>order_id</th>\n",
       "      <th>user_id</th>\n",
       "      <th>order_number</th>\n",
       "      <th>orders_day_of_week</th>\n",
       "      <th>order_hour_of_day</th>\n",
       "      <th>days_since_prior_order</th>\n",
       "      <th>product_id</th>\n",
       "      <th>add_to_cart_order</th>\n",
       "      <th>reordered</th>\n",
       "      <th>product_name</th>\n",
       "      <th>aisle_id</th>\n",
       "      <th>department_id</th>\n",
       "      <th>prices</th>\n",
       "      <th>price_range_loc</th>\n",
       "      <th>Busiest days</th>\n",
       "      <th>Busiest hours</th>\n",
       "    </tr>\n",
       "  </thead>\n",
       "  <tbody>\n",
       "    <tr>\n",
       "      <th>0</th>\n",
       "      <td>2539329.0</td>\n",
       "      <td>1.0</td>\n",
       "      <td>1.0</td>\n",
       "      <td>2.0</td>\n",
       "      <td>8.0</td>\n",
       "      <td>7.0</td>\n",
       "      <td>196</td>\n",
       "      <td>1.0</td>\n",
       "      <td>0.0</td>\n",
       "      <td>Soda</td>\n",
       "      <td>77.0</td>\n",
       "      <td>7.0</td>\n",
       "      <td>9.0</td>\n",
       "      <td>Mid-range product</td>\n",
       "      <td>Regularly busy</td>\n",
       "      <td>Average orders</td>\n",
       "    </tr>\n",
       "    <tr>\n",
       "      <th>1</th>\n",
       "      <td>2398795.0</td>\n",
       "      <td>1.0</td>\n",
       "      <td>2.0</td>\n",
       "      <td>3.0</td>\n",
       "      <td>7.0</td>\n",
       "      <td>15.0</td>\n",
       "      <td>196</td>\n",
       "      <td>1.0</td>\n",
       "      <td>1.0</td>\n",
       "      <td>Soda</td>\n",
       "      <td>77.0</td>\n",
       "      <td>7.0</td>\n",
       "      <td>9.0</td>\n",
       "      <td>Mid-range product</td>\n",
       "      <td>Slowest days</td>\n",
       "      <td>Average orders</td>\n",
       "    </tr>\n",
       "    <tr>\n",
       "      <th>2</th>\n",
       "      <td>473747.0</td>\n",
       "      <td>1.0</td>\n",
       "      <td>3.0</td>\n",
       "      <td>3.0</td>\n",
       "      <td>12.0</td>\n",
       "      <td>21.0</td>\n",
       "      <td>196</td>\n",
       "      <td>1.0</td>\n",
       "      <td>1.0</td>\n",
       "      <td>Soda</td>\n",
       "      <td>77.0</td>\n",
       "      <td>7.0</td>\n",
       "      <td>9.0</td>\n",
       "      <td>Mid-range product</td>\n",
       "      <td>Slowest days</td>\n",
       "      <td>Most orders</td>\n",
       "    </tr>\n",
       "    <tr>\n",
       "      <th>3</th>\n",
       "      <td>2254736.0</td>\n",
       "      <td>1.0</td>\n",
       "      <td>4.0</td>\n",
       "      <td>4.0</td>\n",
       "      <td>7.0</td>\n",
       "      <td>29.0</td>\n",
       "      <td>196</td>\n",
       "      <td>1.0</td>\n",
       "      <td>1.0</td>\n",
       "      <td>Soda</td>\n",
       "      <td>77.0</td>\n",
       "      <td>7.0</td>\n",
       "      <td>9.0</td>\n",
       "      <td>Mid-range product</td>\n",
       "      <td>Slowest days</td>\n",
       "      <td>Average orders</td>\n",
       "    </tr>\n",
       "    <tr>\n",
       "      <th>4</th>\n",
       "      <td>431534.0</td>\n",
       "      <td>1.0</td>\n",
       "      <td>5.0</td>\n",
       "      <td>4.0</td>\n",
       "      <td>15.0</td>\n",
       "      <td>28.0</td>\n",
       "      <td>196</td>\n",
       "      <td>1.0</td>\n",
       "      <td>1.0</td>\n",
       "      <td>Soda</td>\n",
       "      <td>77.0</td>\n",
       "      <td>7.0</td>\n",
       "      <td>9.0</td>\n",
       "      <td>Mid-range product</td>\n",
       "      <td>Slowest days</td>\n",
       "      <td>Most orders</td>\n",
       "    </tr>\n",
       "    <tr>\n",
       "      <th>5</th>\n",
       "      <td>3367565.0</td>\n",
       "      <td>1.0</td>\n",
       "      <td>6.0</td>\n",
       "      <td>2.0</td>\n",
       "      <td>7.0</td>\n",
       "      <td>19.0</td>\n",
       "      <td>196</td>\n",
       "      <td>1.0</td>\n",
       "      <td>1.0</td>\n",
       "      <td>Soda</td>\n",
       "      <td>77.0</td>\n",
       "      <td>7.0</td>\n",
       "      <td>9.0</td>\n",
       "      <td>Mid-range product</td>\n",
       "      <td>Regularly busy</td>\n",
       "      <td>Average orders</td>\n",
       "    </tr>\n",
       "    <tr>\n",
       "      <th>6</th>\n",
       "      <td>550135.0</td>\n",
       "      <td>1.0</td>\n",
       "      <td>7.0</td>\n",
       "      <td>1.0</td>\n",
       "      <td>9.0</td>\n",
       "      <td>20.0</td>\n",
       "      <td>196</td>\n",
       "      <td>1.0</td>\n",
       "      <td>1.0</td>\n",
       "      <td>Soda</td>\n",
       "      <td>77.0</td>\n",
       "      <td>7.0</td>\n",
       "      <td>9.0</td>\n",
       "      <td>Mid-range product</td>\n",
       "      <td>Busiests days</td>\n",
       "      <td>Most orders</td>\n",
       "    </tr>\n",
       "    <tr>\n",
       "      <th>7</th>\n",
       "      <td>3108588.0</td>\n",
       "      <td>1.0</td>\n",
       "      <td>8.0</td>\n",
       "      <td>1.0</td>\n",
       "      <td>14.0</td>\n",
       "      <td>14.0</td>\n",
       "      <td>196</td>\n",
       "      <td>2.0</td>\n",
       "      <td>1.0</td>\n",
       "      <td>Soda</td>\n",
       "      <td>77.0</td>\n",
       "      <td>7.0</td>\n",
       "      <td>9.0</td>\n",
       "      <td>Mid-range product</td>\n",
       "      <td>Busiests days</td>\n",
       "      <td>Most orders</td>\n",
       "    </tr>\n",
       "    <tr>\n",
       "      <th>8</th>\n",
       "      <td>2295261.0</td>\n",
       "      <td>1.0</td>\n",
       "      <td>9.0</td>\n",
       "      <td>1.0</td>\n",
       "      <td>16.0</td>\n",
       "      <td>0.0</td>\n",
       "      <td>196</td>\n",
       "      <td>4.0</td>\n",
       "      <td>1.0</td>\n",
       "      <td>Soda</td>\n",
       "      <td>77.0</td>\n",
       "      <td>7.0</td>\n",
       "      <td>9.0</td>\n",
       "      <td>Mid-range product</td>\n",
       "      <td>Busiests days</td>\n",
       "      <td>Most orders</td>\n",
       "    </tr>\n",
       "    <tr>\n",
       "      <th>9</th>\n",
       "      <td>2550362.0</td>\n",
       "      <td>1.0</td>\n",
       "      <td>10.0</td>\n",
       "      <td>4.0</td>\n",
       "      <td>8.0</td>\n",
       "      <td>30.0</td>\n",
       "      <td>196</td>\n",
       "      <td>1.0</td>\n",
       "      <td>1.0</td>\n",
       "      <td>Soda</td>\n",
       "      <td>77.0</td>\n",
       "      <td>7.0</td>\n",
       "      <td>9.0</td>\n",
       "      <td>Mid-range product</td>\n",
       "      <td>Slowest days</td>\n",
       "      <td>Average orders</td>\n",
       "    </tr>\n",
       "  </tbody>\n",
       "</table>\n",
       "</div>"
      ],
      "text/plain": [
       "    order_id  user_id  order_number  orders_day_of_week  order_hour_of_day  \\\n",
       "0  2539329.0      1.0           1.0                 2.0                8.0   \n",
       "1  2398795.0      1.0           2.0                 3.0                7.0   \n",
       "2   473747.0      1.0           3.0                 3.0               12.0   \n",
       "3  2254736.0      1.0           4.0                 4.0                7.0   \n",
       "4   431534.0      1.0           5.0                 4.0               15.0   \n",
       "5  3367565.0      1.0           6.0                 2.0                7.0   \n",
       "6   550135.0      1.0           7.0                 1.0                9.0   \n",
       "7  3108588.0      1.0           8.0                 1.0               14.0   \n",
       "8  2295261.0      1.0           9.0                 1.0               16.0   \n",
       "9  2550362.0      1.0          10.0                 4.0                8.0   \n",
       "\n",
       "   days_since_prior_order  product_id  add_to_cart_order  reordered  \\\n",
       "0                     7.0         196                1.0        0.0   \n",
       "1                    15.0         196                1.0        1.0   \n",
       "2                    21.0         196                1.0        1.0   \n",
       "3                    29.0         196                1.0        1.0   \n",
       "4                    28.0         196                1.0        1.0   \n",
       "5                    19.0         196                1.0        1.0   \n",
       "6                    20.0         196                1.0        1.0   \n",
       "7                    14.0         196                2.0        1.0   \n",
       "8                     0.0         196                4.0        1.0   \n",
       "9                    30.0         196                1.0        1.0   \n",
       "\n",
       "  product_name  aisle_id  department_id  prices    price_range_loc  \\\n",
       "0         Soda      77.0            7.0     9.0  Mid-range product   \n",
       "1         Soda      77.0            7.0     9.0  Mid-range product   \n",
       "2         Soda      77.0            7.0     9.0  Mid-range product   \n",
       "3         Soda      77.0            7.0     9.0  Mid-range product   \n",
       "4         Soda      77.0            7.0     9.0  Mid-range product   \n",
       "5         Soda      77.0            7.0     9.0  Mid-range product   \n",
       "6         Soda      77.0            7.0     9.0  Mid-range product   \n",
       "7         Soda      77.0            7.0     9.0  Mid-range product   \n",
       "8         Soda      77.0            7.0     9.0  Mid-range product   \n",
       "9         Soda      77.0            7.0     9.0  Mid-range product   \n",
       "\n",
       "     Busiest days   Busiest hours  \n",
       "0  Regularly busy  Average orders  \n",
       "1    Slowest days  Average orders  \n",
       "2    Slowest days     Most orders  \n",
       "3    Slowest days  Average orders  \n",
       "4    Slowest days     Most orders  \n",
       "5  Regularly busy  Average orders  \n",
       "6   Busiests days     Most orders  \n",
       "7   Busiests days     Most orders  \n",
       "8   Busiests days     Most orders  \n",
       "9    Slowest days  Average orders  "
      ]
     },
     "execution_count": 43,
     "metadata": {},
     "output_type": "execute_result"
    }
   ],
   "source": [
    "df_ords_prods.head(10)"
   ]
  },
  {
   "cell_type": "markdown",
   "id": "8e7cbb8e",
   "metadata": {},
   "source": [
    "03. Starting Task 4.8\n",
    "In this Exercise, you learned how to find the aggregated mean of the “order_number” column grouped by “department_id” for a subset of your dataframe. Now, repeat this process for the entire dataframe."
   ]
  },
  {
   "cell_type": "code",
   "execution_count": 44,
   "id": "cc174d69",
   "metadata": {},
   "outputs": [
    {
     "data": {
      "text/html": [
       "<div>\n",
       "<style scoped>\n",
       "    .dataframe tbody tr th:only-of-type {\n",
       "        vertical-align: middle;\n",
       "    }\n",
       "\n",
       "    .dataframe tbody tr th {\n",
       "        vertical-align: top;\n",
       "    }\n",
       "\n",
       "    .dataframe thead tr th {\n",
       "        text-align: left;\n",
       "    }\n",
       "\n",
       "    .dataframe thead tr:last-of-type th {\n",
       "        text-align: right;\n",
       "    }\n",
       "</style>\n",
       "<table border=\"1\" class=\"dataframe\">\n",
       "  <thead>\n",
       "    <tr>\n",
       "      <th></th>\n",
       "      <th>order_number</th>\n",
       "    </tr>\n",
       "    <tr>\n",
       "      <th></th>\n",
       "      <th>mean</th>\n",
       "    </tr>\n",
       "    <tr>\n",
       "      <th>department_id</th>\n",
       "      <th></th>\n",
       "    </tr>\n",
       "  </thead>\n",
       "  <tbody>\n",
       "    <tr>\n",
       "      <th>1.0</th>\n",
       "      <td>15.457838</td>\n",
       "    </tr>\n",
       "    <tr>\n",
       "      <th>2.0</th>\n",
       "      <td>17.277920</td>\n",
       "    </tr>\n",
       "    <tr>\n",
       "      <th>3.0</th>\n",
       "      <td>17.170395</td>\n",
       "    </tr>\n",
       "    <tr>\n",
       "      <th>4.0</th>\n",
       "      <td>17.811403</td>\n",
       "    </tr>\n",
       "    <tr>\n",
       "      <th>5.0</th>\n",
       "      <td>15.215751</td>\n",
       "    </tr>\n",
       "    <tr>\n",
       "      <th>6.0</th>\n",
       "      <td>16.439806</td>\n",
       "    </tr>\n",
       "    <tr>\n",
       "      <th>7.0</th>\n",
       "      <td>17.225802</td>\n",
       "    </tr>\n",
       "    <tr>\n",
       "      <th>8.0</th>\n",
       "      <td>15.340650</td>\n",
       "    </tr>\n",
       "    <tr>\n",
       "      <th>9.0</th>\n",
       "      <td>15.895474</td>\n",
       "    </tr>\n",
       "    <tr>\n",
       "      <th>10.0</th>\n",
       "      <td>20.197148</td>\n",
       "    </tr>\n",
       "    <tr>\n",
       "      <th>11.0</th>\n",
       "      <td>16.170638</td>\n",
       "    </tr>\n",
       "    <tr>\n",
       "      <th>12.0</th>\n",
       "      <td>15.887671</td>\n",
       "    </tr>\n",
       "    <tr>\n",
       "      <th>13.0</th>\n",
       "      <td>16.583536</td>\n",
       "    </tr>\n",
       "    <tr>\n",
       "      <th>14.0</th>\n",
       "      <td>16.773669</td>\n",
       "    </tr>\n",
       "    <tr>\n",
       "      <th>15.0</th>\n",
       "      <td>16.165037</td>\n",
       "    </tr>\n",
       "    <tr>\n",
       "      <th>16.0</th>\n",
       "      <td>17.665606</td>\n",
       "    </tr>\n",
       "    <tr>\n",
       "      <th>17.0</th>\n",
       "      <td>15.694469</td>\n",
       "    </tr>\n",
       "    <tr>\n",
       "      <th>18.0</th>\n",
       "      <td>19.310397</td>\n",
       "    </tr>\n",
       "    <tr>\n",
       "      <th>19.0</th>\n",
       "      <td>17.177343</td>\n",
       "    </tr>\n",
       "    <tr>\n",
       "      <th>20.0</th>\n",
       "      <td>16.473447</td>\n",
       "    </tr>\n",
       "    <tr>\n",
       "      <th>21.0</th>\n",
       "      <td>22.902379</td>\n",
       "    </tr>\n",
       "  </tbody>\n",
       "</table>\n",
       "</div>"
      ],
      "text/plain": [
       "              order_number\n",
       "                      mean\n",
       "department_id             \n",
       "1.0              15.457838\n",
       "2.0              17.277920\n",
       "3.0              17.170395\n",
       "4.0              17.811403\n",
       "5.0              15.215751\n",
       "6.0              16.439806\n",
       "7.0              17.225802\n",
       "8.0              15.340650\n",
       "9.0              15.895474\n",
       "10.0             20.197148\n",
       "11.0             16.170638\n",
       "12.0             15.887671\n",
       "13.0             16.583536\n",
       "14.0             16.773669\n",
       "15.0             16.165037\n",
       "16.0             17.665606\n",
       "17.0             15.694469\n",
       "18.0             19.310397\n",
       "19.0             17.177343\n",
       "20.0             16.473447\n",
       "21.0             22.902379"
      ]
     },
     "execution_count": 44,
     "metadata": {},
     "output_type": "execute_result"
    }
   ],
   "source": [
    "# Question 2 => perform grouping and aggregation (find the mean)\n",
    "# Performing a single aggregation\n",
    "df_ords_prods.groupby('department_id').agg({'order_number': ['mean']})"
   ]
  },
  {
   "cell_type": "markdown",
   "id": "e3d9f6da",
   "metadata": {},
   "source": [
    "Question 3: Comparing the results of this aggregation with the results of the same step, when runned on a subset of 1000000 rows.\n",
    "I have noticed that: 1) On the subset, only departments 4,7,13,14,16,17,19 and 20 were present. It is 8 from 21 departments. It indicates that within the first million rows, orders were made only from those departments. It is an interesting insight which is worth looking into. 2) As expected, in the whole dataframe, all 21 departments were present and accounted for. 3) Interestingly, in the subset all means were higher than the same results achieved by the same command executed in the whole dataframe. Most likely, it is the result of the entire data influencing the means. It would be very interesting to run the same command, this time on the median, to see if the results are similar."
   ]
  },
  {
   "cell_type": "markdown",
   "id": "21fbd213",
   "metadata": {},
   "source": [
    "Results of the comparison ['department id', 'mean on subset', 'mean on dataframe'].\n",
    "\n",
    "4\t18.8\t\t17.88\n",
    "\n",
    "7 \t17.4\t\t17.22\n",
    "\n",
    "13\t17.9\t\t16.58\n",
    "\n",
    "14\t19.24\t\t16.77\n",
    "\n",
    "16\t19.46\t\t17.66\n",
    "\n",
    "17\t11,29\t\t15.69\n",
    "\n",
    "19\t19.30\t\t17.17\n",
    "\n",
    "20\t17.59\t\t16.47\n"
   ]
  },
  {
   "cell_type": "markdown",
   "id": "8d9aa7a9",
   "metadata": {},
   "source": [
    "Question 4\n",
    "Follow the instructions in the Exercise for creating a loyalty flag for existing customers using the transform() and loc() functions."
   ]
  },
  {
   "cell_type": "code",
   "execution_count": 45,
   "id": "6a65dd20",
   "metadata": {},
   "outputs": [],
   "source": [
    "# Question 4: Creating a new column, after grouping and transforming the data variable\n",
    "df_ords_prods['max_order'] = df_ords_prods.groupby(['user_id'])['order_number'].transform(np.max)"
   ]
  },
  {
   "cell_type": "code",
   "execution_count": 46,
   "id": "4fc935f9",
   "metadata": {},
   "outputs": [
    {
     "data": {
      "text/html": [
       "<div>\n",
       "<style scoped>\n",
       "    .dataframe tbody tr th:only-of-type {\n",
       "        vertical-align: middle;\n",
       "    }\n",
       "\n",
       "    .dataframe tbody tr th {\n",
       "        vertical-align: top;\n",
       "    }\n",
       "\n",
       "    .dataframe thead th {\n",
       "        text-align: right;\n",
       "    }\n",
       "</style>\n",
       "<table border=\"1\" class=\"dataframe\">\n",
       "  <thead>\n",
       "    <tr style=\"text-align: right;\">\n",
       "      <th></th>\n",
       "      <th>order_id</th>\n",
       "      <th>user_id</th>\n",
       "      <th>order_number</th>\n",
       "      <th>orders_day_of_week</th>\n",
       "      <th>order_hour_of_day</th>\n",
       "      <th>days_since_prior_order</th>\n",
       "      <th>product_id</th>\n",
       "      <th>add_to_cart_order</th>\n",
       "      <th>reordered</th>\n",
       "      <th>product_name</th>\n",
       "      <th>aisle_id</th>\n",
       "      <th>department_id</th>\n",
       "      <th>prices</th>\n",
       "      <th>price_range_loc</th>\n",
       "      <th>Busiest days</th>\n",
       "      <th>Busiest hours</th>\n",
       "      <th>max_order</th>\n",
       "    </tr>\n",
       "  </thead>\n",
       "  <tbody>\n",
       "    <tr>\n",
       "      <th>0</th>\n",
       "      <td>2539329.0</td>\n",
       "      <td>1.0</td>\n",
       "      <td>1.0</td>\n",
       "      <td>2.0</td>\n",
       "      <td>8.0</td>\n",
       "      <td>7.0</td>\n",
       "      <td>196</td>\n",
       "      <td>1.0</td>\n",
       "      <td>0.0</td>\n",
       "      <td>Soda</td>\n",
       "      <td>77.0</td>\n",
       "      <td>7.0</td>\n",
       "      <td>9.0</td>\n",
       "      <td>Mid-range product</td>\n",
       "      <td>Regularly busy</td>\n",
       "      <td>Average orders</td>\n",
       "      <td>10.0</td>\n",
       "    </tr>\n",
       "    <tr>\n",
       "      <th>1</th>\n",
       "      <td>2398795.0</td>\n",
       "      <td>1.0</td>\n",
       "      <td>2.0</td>\n",
       "      <td>3.0</td>\n",
       "      <td>7.0</td>\n",
       "      <td>15.0</td>\n",
       "      <td>196</td>\n",
       "      <td>1.0</td>\n",
       "      <td>1.0</td>\n",
       "      <td>Soda</td>\n",
       "      <td>77.0</td>\n",
       "      <td>7.0</td>\n",
       "      <td>9.0</td>\n",
       "      <td>Mid-range product</td>\n",
       "      <td>Slowest days</td>\n",
       "      <td>Average orders</td>\n",
       "      <td>10.0</td>\n",
       "    </tr>\n",
       "    <tr>\n",
       "      <th>2</th>\n",
       "      <td>473747.0</td>\n",
       "      <td>1.0</td>\n",
       "      <td>3.0</td>\n",
       "      <td>3.0</td>\n",
       "      <td>12.0</td>\n",
       "      <td>21.0</td>\n",
       "      <td>196</td>\n",
       "      <td>1.0</td>\n",
       "      <td>1.0</td>\n",
       "      <td>Soda</td>\n",
       "      <td>77.0</td>\n",
       "      <td>7.0</td>\n",
       "      <td>9.0</td>\n",
       "      <td>Mid-range product</td>\n",
       "      <td>Slowest days</td>\n",
       "      <td>Most orders</td>\n",
       "      <td>10.0</td>\n",
       "    </tr>\n",
       "    <tr>\n",
       "      <th>3</th>\n",
       "      <td>2254736.0</td>\n",
       "      <td>1.0</td>\n",
       "      <td>4.0</td>\n",
       "      <td>4.0</td>\n",
       "      <td>7.0</td>\n",
       "      <td>29.0</td>\n",
       "      <td>196</td>\n",
       "      <td>1.0</td>\n",
       "      <td>1.0</td>\n",
       "      <td>Soda</td>\n",
       "      <td>77.0</td>\n",
       "      <td>7.0</td>\n",
       "      <td>9.0</td>\n",
       "      <td>Mid-range product</td>\n",
       "      <td>Slowest days</td>\n",
       "      <td>Average orders</td>\n",
       "      <td>10.0</td>\n",
       "    </tr>\n",
       "    <tr>\n",
       "      <th>4</th>\n",
       "      <td>431534.0</td>\n",
       "      <td>1.0</td>\n",
       "      <td>5.0</td>\n",
       "      <td>4.0</td>\n",
       "      <td>15.0</td>\n",
       "      <td>28.0</td>\n",
       "      <td>196</td>\n",
       "      <td>1.0</td>\n",
       "      <td>1.0</td>\n",
       "      <td>Soda</td>\n",
       "      <td>77.0</td>\n",
       "      <td>7.0</td>\n",
       "      <td>9.0</td>\n",
       "      <td>Mid-range product</td>\n",
       "      <td>Slowest days</td>\n",
       "      <td>Most orders</td>\n",
       "      <td>10.0</td>\n",
       "    </tr>\n",
       "  </tbody>\n",
       "</table>\n",
       "</div>"
      ],
      "text/plain": [
       "    order_id  user_id  order_number  orders_day_of_week  order_hour_of_day  \\\n",
       "0  2539329.0      1.0           1.0                 2.0                8.0   \n",
       "1  2398795.0      1.0           2.0                 3.0                7.0   \n",
       "2   473747.0      1.0           3.0                 3.0               12.0   \n",
       "3  2254736.0      1.0           4.0                 4.0                7.0   \n",
       "4   431534.0      1.0           5.0                 4.0               15.0   \n",
       "\n",
       "   days_since_prior_order  product_id  add_to_cart_order  reordered  \\\n",
       "0                     7.0         196                1.0        0.0   \n",
       "1                    15.0         196                1.0        1.0   \n",
       "2                    21.0         196                1.0        1.0   \n",
       "3                    29.0         196                1.0        1.0   \n",
       "4                    28.0         196                1.0        1.0   \n",
       "\n",
       "  product_name  aisle_id  department_id  prices    price_range_loc  \\\n",
       "0         Soda      77.0            7.0     9.0  Mid-range product   \n",
       "1         Soda      77.0            7.0     9.0  Mid-range product   \n",
       "2         Soda      77.0            7.0     9.0  Mid-range product   \n",
       "3         Soda      77.0            7.0     9.0  Mid-range product   \n",
       "4         Soda      77.0            7.0     9.0  Mid-range product   \n",
       "\n",
       "     Busiest days   Busiest hours  max_order  \n",
       "0  Regularly busy  Average orders       10.0  \n",
       "1    Slowest days  Average orders       10.0  \n",
       "2    Slowest days     Most orders       10.0  \n",
       "3    Slowest days  Average orders       10.0  \n",
       "4    Slowest days     Most orders       10.0  "
      ]
     },
     "execution_count": 46,
     "metadata": {},
     "output_type": "execute_result"
    }
   ],
   "source": [
    "# Checking the results\n",
    "df_ords_prods.head()"
   ]
  },
  {
   "cell_type": "code",
   "execution_count": 47,
   "id": "9323a810",
   "metadata": {},
   "outputs": [],
   "source": [
    "# Creating a flag column based in Customer loyalty\n",
    "df_ords_prods.loc[df_ords_prods['max_order'] > 40, 'loyalty_flag'] = 'Loyal customer'"
   ]
  },
  {
   "cell_type": "code",
   "execution_count": 48,
   "id": "556f26d5",
   "metadata": {},
   "outputs": [],
   "source": [
    "df_ords_prods.loc[(df_ords_prods['max_order'] <= 40) & (df_ords_prods['max_order'] > 10), 'loyalty_flag'] = 'Regular customer'"
   ]
  },
  {
   "cell_type": "code",
   "execution_count": 49,
   "id": "0a3a9c40",
   "metadata": {},
   "outputs": [],
   "source": [
    "df_ords_prods.loc[df_ords_prods['max_order'] <= 10, 'loyalty_flag'] = 'New customer'"
   ]
  },
  {
   "cell_type": "code",
   "execution_count": 50,
   "id": "5ca94d0c",
   "metadata": {},
   "outputs": [
    {
     "data": {
      "text/plain": [
       "Regular customer    15891507\n",
       "Loyal customer      10294027\n",
       "New customer         6249525\n",
       "NaN                       11\n",
       "Name: loyalty_flag, dtype: int64"
      ]
     },
     "execution_count": 50,
     "metadata": {},
     "output_type": "execute_result"
    }
   ],
   "source": [
    "df_ords_prods['loyalty_flag'].value_counts(dropna = False)"
   ]
  },
  {
   "cell_type": "markdown",
   "id": "7de823c4",
   "metadata": {},
   "source": [
    "I investigated the missing values, they are missing from the following columns: 'product name', 'department id', aisle id', prices' and 'price range loc'. I have tried different ways to drop thos values, since they would not affect the overal analysis. However, I have not been succesful. In order to continue the task, I have left them as it is."
   ]
  },
  {
   "cell_type": "code",
   "execution_count": 14,
   "id": "2b79fced",
   "metadata": {},
   "outputs": [
    {
     "data": {
      "text/html": [
       "<div>\n",
       "<style scoped>\n",
       "    .dataframe tbody tr th:only-of-type {\n",
       "        vertical-align: middle;\n",
       "    }\n",
       "\n",
       "    .dataframe tbody tr th {\n",
       "        vertical-align: top;\n",
       "    }\n",
       "\n",
       "    .dataframe thead th {\n",
       "        text-align: right;\n",
       "    }\n",
       "</style>\n",
       "<table border=\"1\" class=\"dataframe\">\n",
       "  <thead>\n",
       "    <tr style=\"text-align: right;\">\n",
       "      <th></th>\n",
       "      <th>user_id</th>\n",
       "      <th>loyalty_flag</th>\n",
       "      <th>order_number</th>\n",
       "    </tr>\n",
       "  </thead>\n",
       "  <tbody>\n",
       "    <tr>\n",
       "      <th>0</th>\n",
       "      <td>1.0</td>\n",
       "      <td>New customer</td>\n",
       "      <td>1.0</td>\n",
       "    </tr>\n",
       "    <tr>\n",
       "      <th>1</th>\n",
       "      <td>1.0</td>\n",
       "      <td>New customer</td>\n",
       "      <td>2.0</td>\n",
       "    </tr>\n",
       "    <tr>\n",
       "      <th>2</th>\n",
       "      <td>1.0</td>\n",
       "      <td>New customer</td>\n",
       "      <td>3.0</td>\n",
       "    </tr>\n",
       "    <tr>\n",
       "      <th>3</th>\n",
       "      <td>1.0</td>\n",
       "      <td>New customer</td>\n",
       "      <td>4.0</td>\n",
       "    </tr>\n",
       "    <tr>\n",
       "      <th>4</th>\n",
       "      <td>1.0</td>\n",
       "      <td>New customer</td>\n",
       "      <td>5.0</td>\n",
       "    </tr>\n",
       "    <tr>\n",
       "      <th>5</th>\n",
       "      <td>1.0</td>\n",
       "      <td>New customer</td>\n",
       "      <td>6.0</td>\n",
       "    </tr>\n",
       "    <tr>\n",
       "      <th>6</th>\n",
       "      <td>1.0</td>\n",
       "      <td>New customer</td>\n",
       "      <td>7.0</td>\n",
       "    </tr>\n",
       "    <tr>\n",
       "      <th>7</th>\n",
       "      <td>1.0</td>\n",
       "      <td>New customer</td>\n",
       "      <td>8.0</td>\n",
       "    </tr>\n",
       "    <tr>\n",
       "      <th>8</th>\n",
       "      <td>1.0</td>\n",
       "      <td>New customer</td>\n",
       "      <td>9.0</td>\n",
       "    </tr>\n",
       "    <tr>\n",
       "      <th>9</th>\n",
       "      <td>1.0</td>\n",
       "      <td>New customer</td>\n",
       "      <td>10.0</td>\n",
       "    </tr>\n",
       "    <tr>\n",
       "      <th>10</th>\n",
       "      <td>15.0</td>\n",
       "      <td>Regular customer</td>\n",
       "      <td>15.0</td>\n",
       "    </tr>\n",
       "    <tr>\n",
       "      <th>11</th>\n",
       "      <td>15.0</td>\n",
       "      <td>Regular customer</td>\n",
       "      <td>17.0</td>\n",
       "    </tr>\n",
       "    <tr>\n",
       "      <th>12</th>\n",
       "      <td>15.0</td>\n",
       "      <td>Regular customer</td>\n",
       "      <td>18.0</td>\n",
       "    </tr>\n",
       "    <tr>\n",
       "      <th>13</th>\n",
       "      <td>15.0</td>\n",
       "      <td>Regular customer</td>\n",
       "      <td>21.0</td>\n",
       "    </tr>\n",
       "    <tr>\n",
       "      <th>14</th>\n",
       "      <td>15.0</td>\n",
       "      <td>Regular customer</td>\n",
       "      <td>22.0</td>\n",
       "    </tr>\n",
       "  </tbody>\n",
       "</table>\n",
       "</div>"
      ],
      "text/plain": [
       "    user_id      loyalty_flag  order_number\n",
       "0       1.0      New customer           1.0\n",
       "1       1.0      New customer           2.0\n",
       "2       1.0      New customer           3.0\n",
       "3       1.0      New customer           4.0\n",
       "4       1.0      New customer           5.0\n",
       "5       1.0      New customer           6.0\n",
       "6       1.0      New customer           7.0\n",
       "7       1.0      New customer           8.0\n",
       "8       1.0      New customer           9.0\n",
       "9       1.0      New customer          10.0\n",
       "10     15.0  Regular customer          15.0\n",
       "11     15.0  Regular customer          17.0\n",
       "12     15.0  Regular customer          18.0\n",
       "13     15.0  Regular customer          21.0\n",
       "14     15.0  Regular customer          22.0"
      ]
     },
     "execution_count": 14,
     "metadata": {},
     "output_type": "execute_result"
    }
   ],
   "source": [
    "# Checking code's execution\n",
    "df_ords_prods[['user_id', 'loyalty_flag', 'order_number']].head(15)"
   ]
  },
  {
   "cell_type": "code",
   "execution_count": 27,
   "id": "e9307c7c",
   "metadata": {},
   "outputs": [],
   "source": [
    "# Creating a new dataframe without the missing values\n",
    "df_ords_prods = df_ords_prods[df_ords_prods['price_range_loc'].isnull() == False]"
   ]
  },
  {
   "cell_type": "markdown",
   "id": "752bc045",
   "metadata": {},
   "source": [
    "Question 5\n",
    "The marketing team at Instacart wants to know whether there’s a difference between the spending habits of the three types of customers you identified. Use the loyalty flag you created and check the basic statistics of the product prices for each loyalty category (Loyal Customer, Regular Customer, and New Customer). What you’re trying to determine is whether the prices of products purchased by loyal customers differ from those purchased by regular or new customers."
   ]
  },
  {
   "cell_type": "code",
   "execution_count": 15,
   "id": "3348f532",
   "metadata": {},
   "outputs": [
    {
     "data": {
      "text/html": [
       "<div>\n",
       "<style scoped>\n",
       "    .dataframe tbody tr th:only-of-type {\n",
       "        vertical-align: middle;\n",
       "    }\n",
       "\n",
       "    .dataframe tbody tr th {\n",
       "        vertical-align: top;\n",
       "    }\n",
       "\n",
       "    .dataframe thead tr th {\n",
       "        text-align: left;\n",
       "    }\n",
       "\n",
       "    .dataframe thead tr:last-of-type th {\n",
       "        text-align: right;\n",
       "    }\n",
       "</style>\n",
       "<table border=\"1\" class=\"dataframe\">\n",
       "  <thead>\n",
       "    <tr>\n",
       "      <th></th>\n",
       "      <th colspan=\"3\" halign=\"left\">prices</th>\n",
       "    </tr>\n",
       "    <tr>\n",
       "      <th></th>\n",
       "      <th>mean</th>\n",
       "      <th>min</th>\n",
       "      <th>max</th>\n",
       "    </tr>\n",
       "    <tr>\n",
       "      <th>loyalty_flag</th>\n",
       "      <th></th>\n",
       "      <th></th>\n",
       "      <th></th>\n",
       "    </tr>\n",
       "  </thead>\n",
       "  <tbody>\n",
       "    <tr>\n",
       "      <th>Loyal customer</th>\n",
       "      <td>10.386336</td>\n",
       "      <td>1.0</td>\n",
       "      <td>99999.0</td>\n",
       "    </tr>\n",
       "    <tr>\n",
       "      <th>New customer</th>\n",
       "      <td>13.294670</td>\n",
       "      <td>1.0</td>\n",
       "      <td>99999.0</td>\n",
       "    </tr>\n",
       "    <tr>\n",
       "      <th>Regular customer</th>\n",
       "      <td>12.495717</td>\n",
       "      <td>1.0</td>\n",
       "      <td>99999.0</td>\n",
       "    </tr>\n",
       "  </tbody>\n",
       "</table>\n",
       "</div>"
      ],
      "text/plain": [
       "                     prices              \n",
       "                       mean  min      max\n",
       "loyalty_flag                             \n",
       "Loyal customer    10.386336  1.0  99999.0\n",
       "New customer      13.294670  1.0  99999.0\n",
       "Regular customer  12.495717  1.0  99999.0"
      ]
     },
     "execution_count": 15,
     "metadata": {},
     "output_type": "execute_result"
    }
   ],
   "source": [
    "# Question 5: Check the spending habits of customers based on their loyalty. Find out basic statistics.\n",
    "df_ords_prods.groupby('loyalty_flag').agg({'prices': ['mean', 'min', 'max']})"
   ]
  },
  {
   "cell_type": "code",
   "execution_count": 16,
   "id": "2de9647c",
   "metadata": {},
   "outputs": [
    {
     "data": {
      "text/plain": [
       "Regular customer    15891507\n",
       "Loyal customer      10294027\n",
       "New customer         6249525\n",
       "NaN                       11\n",
       "Name: loyalty_flag, dtype: int64"
      ]
     },
     "execution_count": 16,
     "metadata": {},
     "output_type": "execute_result"
    }
   ],
   "source": [
    "# Checking the proportion of customers to find the difference of proportion in the 'average'\n",
    "df_ords_prods['loyalty_flag'].value_counts(dropna = False)"
   ]
  },
  {
   "cell_type": "markdown",
   "id": "8edb046f",
   "metadata": {},
   "source": [
    "Comments:\n",
    "Loyal customers = 32%. Regular customres = 49%, and New customers = 19%. \n",
    "In matters of spending, the average prices of products bought by new customers is $13.3 and loyal customers is only $10.4. Regular customers' average product price spending is $12.5 which is in-between."
   ]
  },
  {
   "cell_type": "code",
   "execution_count": 53,
   "id": "d3effc22",
   "metadata": {},
   "outputs": [
    {
     "name": "stdout",
     "output_type": "stream",
     "text": [
      "| loyalty_flag     |   ('prices', 'mean') |\n",
      "|:-----------------|---------------------:|\n",
      "| Loyal customer   |                 10.4 |\n",
      "| New customer     |                 13.3 |\n",
      "| Regular customer |                 12.5 |\n"
     ]
    }
   ],
   "source": [
    "# This cell (and the next one) are comments made by my mentor Dania. I have added them to add clarity to the analysis.\n",
    "print(df_ords_prods.groupby('loyalty_flag').agg({'prices': ['mean']}).to_markdown(floatfmt=\".1f\"))"
   ]
  },
  {
   "cell_type": "code",
   "execution_count": 54,
   "id": "0c92fca5",
   "metadata": {},
   "outputs": [
    {
     "name": "stdout",
     "output_type": "stream",
     "text": [
      "The new customers buy products 27.9% more expensive than loyal customers\n"
     ]
    }
   ],
   "source": [
    "higher_price = (13.3/10.4 -1)*100\n",
    "print('The new customers buy products {:.1f}% more expensive than loyal customers'.format(higher_price))"
   ]
  },
  {
   "cell_type": "markdown",
   "id": "7f80dde5",
   "metadata": {},
   "source": [
    "Question 6\n",
    "The team now wants to target different types of spenders in their marketing campaigns. This can be achieved by looking at the prices of the items people are buying. Create a spending flag for each user based on the average price across all their orders using the following criteria:\n",
    "If the mean of the prices of products purchased by a user is lower than 10, then flag them as a “Low spender.”"
   ]
  },
  {
   "cell_type": "code",
   "execution_count": 17,
   "id": "0def0056",
   "metadata": {},
   "outputs": [],
   "source": [
    "# Question 6: Creating a new variable, after grouping and transforming the data\n",
    "df_ords_prods['avg_prices'] = df_ords_prods.groupby(['user_id'])['prices'].transform(np.mean)"
   ]
  },
  {
   "cell_type": "code",
   "execution_count": 18,
   "id": "66935483",
   "metadata": {},
   "outputs": [],
   "source": [
    "# Creating a spending flag column based in Customer loyalty\n",
    "df_ords_prods.loc[df_ords_prods['avg_prices'] < 10, 'spending_flag'] = 'Low spender'"
   ]
  },
  {
   "cell_type": "code",
   "execution_count": 19,
   "id": "1c07f953",
   "metadata": {},
   "outputs": [],
   "source": [
    "df_ords_prods.loc[df_ords_prods['avg_prices'] >= 10, 'spending_flag'] = 'High spender'"
   ]
  },
  {
   "cell_type": "code",
   "execution_count": 20,
   "id": "a7c99875",
   "metadata": {},
   "outputs": [
    {
     "data": {
      "text/plain": [
       "Low spender     31800381\n",
       "High spender      634678\n",
       "NaN                   11\n",
       "Name: spending_flag, dtype: int64"
      ]
     },
     "execution_count": 20,
     "metadata": {},
     "output_type": "execute_result"
    }
   ],
   "source": [
    "# Checking the results of the spending flag\n",
    "df_ords_prods['spending_flag'].value_counts(dropna = False)"
   ]
  },
  {
   "cell_type": "markdown",
   "id": "5c84cda9",
   "metadata": {},
   "source": [
    "Results: High spending customers account for only 0.02% of all Instacart customers. There is much need for a campaign to target customers to increase high spend."
   ]
  },
  {
   "cell_type": "markdown",
   "id": "e2e40dab",
   "metadata": {},
   "source": [
    "Question 7\n",
    "In order to send relevant notifications to users within the app (for instance, asking users if they want to buy the same item again), the Instacart team wants you to determine frequent versus non-frequent customers. Create an order frequency flag that marks the regularity of a user’s ordering behavior according to the median in the “days_since_prior_order” column. "
   ]
  },
  {
   "cell_type": "code",
   "execution_count": 21,
   "id": "88f3c6b2",
   "metadata": {},
   "outputs": [],
   "source": [
    "# Question 7: Finding out the median of the 'days since prior order column', grouped by user\n",
    "df_ords_prods['median_prior_order'] = df_ords_prods.groupby(['user_id'])['days_since_prior_order'].transform(np.median)"
   ]
  },
  {
   "cell_type": "code",
   "execution_count": 22,
   "id": "3da01b8f",
   "metadata": {},
   "outputs": [],
   "source": [
    "# Creating a flag column based in Customer frequency\n",
    "df_ords_prods.loc[df_ords_prods['median_prior_order'] > 20, 'frequency_flag'] = 'Non-frequent customer'"
   ]
  },
  {
   "cell_type": "code",
   "execution_count": 23,
   "id": "810fb5fa",
   "metadata": {},
   "outputs": [],
   "source": [
    "df_ords_prods.loc[(df_ords_prods['median_prior_order'] <= 20) & (df_ords_prods['median_prior_order'] > 10), 'frequency_flag'] = 'Regular customer'"
   ]
  },
  {
   "cell_type": "code",
   "execution_count": 24,
   "id": "92765e23",
   "metadata": {},
   "outputs": [],
   "source": [
    "df_ords_prods.loc[df_ords_prods['median_prior_order'] <= 10, 'frequency_flag'] = 'Frequent customer'"
   ]
  },
  {
   "cell_type": "code",
   "execution_count": 25,
   "id": "5bbd9d6e",
   "metadata": {},
   "outputs": [
    {
     "data": {
      "text/plain": [
       "Frequent customer        22809921\n",
       "Regular customer          6935132\n",
       "Non-frequent customer     2690006\n",
       "NaN                            11\n",
       "Name: frequency_flag, dtype: int64"
      ]
     },
     "execution_count": 25,
     "metadata": {},
     "output_type": "execute_result"
    }
   ],
   "source": [
    "# Checking the results of the frequency flag\n",
    "df_ords_prods['frequency_flag'].value_counts(dropna = False)"
   ]
  },
  {
   "cell_type": "markdown",
   "id": "b169b607",
   "metadata": {},
   "source": [
    "Frequent customers account for 70% of all Instacart customers."
   ]
  },
  {
   "cell_type": "markdown",
   "id": "567860b6",
   "metadata": {},
   "source": [
    "08. Exporting new file to Pickle"
   ]
  },
  {
   "cell_type": "code",
   "execution_count": 26,
   "id": "a381fd92",
   "metadata": {},
   "outputs": [],
   "source": [
    "df_ords_prods.to_pickle(os.path.join(path, '2-Data','Prepared Data', 'orders_products_readyvariables.pkl'))"
   ]
  },
  {
   "cell_type": "markdown",
   "id": "d449a69c",
   "metadata": {},
   "source": [
    "Data frame exported succesfully. Thank you."
   ]
  }
 ],
 "metadata": {
  "kernelspec": {
   "display_name": "Python 3 (ipykernel)",
   "language": "python",
   "name": "python3"
  },
  "language_info": {
   "codemirror_mode": {
    "name": "ipython",
    "version": 3
   },
   "file_extension": ".py",
   "mimetype": "text/x-python",
   "name": "python",
   "nbconvert_exporter": "python",
   "pygments_lexer": "ipython3",
   "version": "3.11.3"
  }
 },
 "nbformat": 4,
 "nbformat_minor": 5
}
