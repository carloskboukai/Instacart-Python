{
 "cells": [
  {
   "cell_type": "markdown",
   "id": "688fb785",
   "metadata": {},
   "source": [
    "This notebook contains the following:\n",
    "    \n",
    "01) writing a 'define' function to create a variable\n",
    "\n",
    "02) using the .loc function to create a variable\n",
    "\n",
    "03) using the loop function to create a variable\n"
   ]
  },
  {
   "cell_type": "markdown",
   "id": "3efb2619",
   "metadata": {},
   "source": [
    "01. starting new notebook"
   ]
  },
  {
   "cell_type": "code",
   "execution_count": 1,
   "id": "438322f8",
   "metadata": {},
   "outputs": [],
   "source": [
    "# Importing libraries\n",
    "import pandas as pd\n",
    "import numpy as np\n",
    "import os"
   ]
  },
  {
   "cell_type": "code",
   "execution_count": 2,
   "id": "cea3f6ef",
   "metadata": {},
   "outputs": [],
   "source": [
    "# Practicing example exercise 4.7\n",
    "# Define function\n",
    "def add_num (x, y):\n",
    "    sum = x + y\n",
    "    return sum"
   ]
  },
  {
   "cell_type": "code",
   "execution_count": 3,
   "id": "966985df",
   "metadata": {},
   "outputs": [
    {
     "data": {
      "text/plain": [
       "20"
      ]
     },
     "execution_count": 3,
     "metadata": {},
     "output_type": "execute_result"
    }
   ],
   "source": [
    "add_num (9,11)"
   ]
  },
  {
   "cell_type": "markdown",
   "id": "c8989bd7",
   "metadata": {},
   "source": [
    "02. Establishing path and importing dataframe"
   ]
  },
  {
   "cell_type": "code",
   "execution_count": 5,
   "id": "24561a1d",
   "metadata": {},
   "outputs": [],
   "source": [
    "# Establishing a path to import data frames\n",
    "path = r'C:\\Users\\Paola\\Desktop\\Shaul\\Data\\CF\\August-2023 Instacart Basket Analysis'"
   ]
  },
  {
   "cell_type": "code",
   "execution_count": 6,
   "id": "f78b698f",
   "metadata": {},
   "outputs": [
    {
     "data": {
      "text/plain": [
       "'C:\\\\Users\\\\Paola\\\\Desktop\\\\Shaul\\\\Data\\\\CF\\\\August-2023 Instacart Basket Analysis'"
      ]
     },
     "execution_count": 6,
     "metadata": {},
     "output_type": "execute_result"
    }
   ],
   "source": [
    "path"
   ]
  },
  {
   "cell_type": "markdown",
   "id": "6d064332",
   "metadata": {},
   "source": [
    "03. Working first steps of Exercise 4.7 (reading part)"
   ]
  },
  {
   "cell_type": "code",
   "execution_count": 7,
   "id": "8c677c57",
   "metadata": {},
   "outputs": [],
   "source": [
    "# Importing 'orders_products_merged.pkl' data set\n",
    "df_ords_prods = pd.read_pickle(os.path.join(path, '2-Data', 'Prepared Data', 'orders_products_merged.pkl'))"
   ]
  },
  {
   "cell_type": "code",
   "execution_count": 8,
   "id": "0a1db2de",
   "metadata": {},
   "outputs": [],
   "source": [
    "# Creating subset => first one million rows\n",
    "df = df_ords_prods[:1000000]"
   ]
  },
  {
   "cell_type": "code",
   "execution_count": 9,
   "id": "44ce4494",
   "metadata": {},
   "outputs": [
    {
     "data": {
      "text/plain": [
       "(1000000, 18)"
      ]
     },
     "execution_count": 9,
     "metadata": {},
     "output_type": "execute_result"
    }
   ],
   "source": [
    "df.shape"
   ]
  },
  {
   "cell_type": "code",
   "execution_count": 10,
   "id": "9e4ac68d",
   "metadata": {},
   "outputs": [],
   "source": [
    "# Writing the 'define' function\n",
    "def price_label(row):\n",
    "\n",
    "  if row['prices'] <= 5:\n",
    "    return 'Low-range product'\n",
    "  elif (row['prices'] > 5) and (row['prices'] <= 15):\n",
    "    return 'Mid-range product'\n",
    "  elif row['prices'] > 15:\n",
    "    return 'High range'\n",
    "  else: return 'Not enough data'"
   ]
  },
  {
   "cell_type": "code",
   "execution_count": 11,
   "id": "003697ac",
   "metadata": {},
   "outputs": [
    {
     "name": "stderr",
     "output_type": "stream",
     "text": [
      "C:\\Users\\Paola\\AppData\\Local\\Temp\\ipykernel_9892\\2918228003.py:2: SettingWithCopyWarning: \n",
      "A value is trying to be set on a copy of a slice from a DataFrame.\n",
      "Try using .loc[row_indexer,col_indexer] = value instead\n",
      "\n",
      "See the caveats in the documentation: https://pandas.pydata.org/pandas-docs/stable/user_guide/indexing.html#returning-a-view-versus-a-copy\n",
      "  df['price_range'] = df.apply(price_label, axis=1)\n"
     ]
    }
   ],
   "source": [
    "# Applying the function\n",
    "df['price_range'] = df.apply(price_label, axis=1)"
   ]
  },
  {
   "cell_type": "code",
   "execution_count": 12,
   "id": "8ff154e9",
   "metadata": {},
   "outputs": [
    {
     "data": {
      "text/plain": [
       "Mid-range product    756450\n",
       "Low-range product    243550\n",
       "Name: price_range, dtype: int64"
      ]
     },
     "execution_count": 12,
     "metadata": {},
     "output_type": "execute_result"
    }
   ],
   "source": [
    "# Checking the values\n",
    "df['price_range'].value_counts(dropna = False)"
   ]
  },
  {
   "cell_type": "code",
   "execution_count": 13,
   "id": "94868b57",
   "metadata": {},
   "outputs": [
    {
     "data": {
      "text/plain": [
       "14.8"
      ]
     },
     "execution_count": 13,
     "metadata": {},
     "output_type": "execute_result"
    }
   ],
   "source": [
    "# Checking the most expensive product in the subset data frame\n",
    "df['prices'].max()"
   ]
  },
  {
   "cell_type": "markdown",
   "id": "f672a369",
   "metadata": {},
   "source": [
    "04. Second part of 4.7 Exercise => .loc() function"
   ]
  },
  {
   "cell_type": "code",
   "execution_count": 14,
   "id": "8201d9e3",
   "metadata": {},
   "outputs": [
    {
     "name": "stderr",
     "output_type": "stream",
     "text": [
      "C:\\Users\\Paola\\AppData\\Local\\Temp\\ipykernel_9892\\2794684828.py:2: SettingWithCopyWarning: \n",
      "A value is trying to be set on a copy of a slice from a DataFrame.\n",
      "Try using .loc[row_indexer,col_indexer] = value instead\n",
      "\n",
      "See the caveats in the documentation: https://pandas.pydata.org/pandas-docs/stable/user_guide/indexing.html#returning-a-view-versus-a-copy\n",
      "  df.loc[df['prices'] > 15, 'price_range_loc'] = 'High-range product'\n"
     ]
    }
   ],
   "source": [
    "# Establishing conditions for .loc() function\n",
    "df.loc[df['prices'] > 15, 'price_range_loc'] = 'High-range product'"
   ]
  },
  {
   "cell_type": "code",
   "execution_count": 15,
   "id": "964d43af",
   "metadata": {},
   "outputs": [],
   "source": [
    "df.loc[(df['prices'] <= 15) & (df['prices'] > 5), 'price_range_loc'] = 'Mid-range product' "
   ]
  },
  {
   "cell_type": "code",
   "execution_count": 16,
   "id": "41841c46",
   "metadata": {},
   "outputs": [],
   "source": [
    "df.loc[df['prices'] <= 5, 'price_range_loc'] = 'Low-range product'"
   ]
  },
  {
   "cell_type": "code",
   "execution_count": 17,
   "id": "12ec3b64",
   "metadata": {},
   "outputs": [
    {
     "data": {
      "text/plain": [
       "Mid-range product    756450\n",
       "Low-range product    243550\n",
       "Name: price_range_loc, dtype: int64"
      ]
     },
     "execution_count": 17,
     "metadata": {},
     "output_type": "execute_result"
    }
   ],
   "source": [
    "# Checking results\n",
    "df['price_range_loc'].value_counts(dropna = False)"
   ]
  },
  {
   "cell_type": "markdown",
   "id": "2cab39ae",
   "metadata": {},
   "source": [
    "05. Searching through the entire dataframe"
   ]
  },
  {
   "cell_type": "code",
   "execution_count": 19,
   "id": "9d81678c",
   "metadata": {},
   "outputs": [],
   "source": [
    "df_ords_prods.loc[df_ords_prods['prices'] > 15, 'price_range_loc'] = 'High-range product'"
   ]
  },
  {
   "cell_type": "code",
   "execution_count": 20,
   "id": "c0c9b3a5",
   "metadata": {},
   "outputs": [],
   "source": [
    "df_ords_prods.loc[(df_ords_prods['prices'] <= 15) & (df_ords_prods['prices'] > 5), 'price_range_loc'] = 'Mid-range product'"
   ]
  },
  {
   "cell_type": "code",
   "execution_count": 21,
   "id": "f17e1bc5",
   "metadata": {},
   "outputs": [],
   "source": [
    "df_ords_prods.loc[df_ords_prods['prices'] <= 5, 'price_range_loc'] = 'Low-range product'"
   ]
  },
  {
   "cell_type": "code",
   "execution_count": 22,
   "id": "1bf44a69",
   "metadata": {},
   "outputs": [
    {
     "data": {
      "text/plain": [
       "Mid-range product     21860868\n",
       "Low-range product     10126324\n",
       "High-range product      417678\n",
       "Name: price_range_loc, dtype: int64"
      ]
     },
     "execution_count": 22,
     "metadata": {},
     "output_type": "execute_result"
    }
   ],
   "source": [
    "# Checking results and values\n",
    "df_ords_prods['price_range_loc'].value_counts()"
   ]
  },
  {
   "cell_type": "markdown",
   "id": "2ceab422",
   "metadata": {},
   "source": [
    "06. Working on for loops"
   ]
  },
  {
   "cell_type": "code",
   "execution_count": 23,
   "id": "facf02a6",
   "metadata": {},
   "outputs": [
    {
     "data": {
      "text/plain": [
       "0.0    6209808\n",
       "1.0    5665951\n",
       "6.0    4500391\n",
       "2.0    4217868\n",
       "5.0    4209603\n",
       "3.0    3844175\n",
       "4.0    3787263\n",
       "NaN         11\n",
       "Name: orders_day_of_week, dtype: int64"
      ]
     },
     "execution_count": 23,
     "metadata": {},
     "output_type": "execute_result"
    }
   ],
   "source": [
    "df_ords_prods['orders_day_of_week'].value_counts(dropna = False)"
   ]
  },
  {
   "cell_type": "code",
   "execution_count": 24,
   "id": "6a6df082",
   "metadata": {},
   "outputs": [],
   "source": [
    "# Writing for loop command\n",
    "result = []\n",
    "\n",
    "for value in df_ords_prods[\"orders_day_of_week\"]:\n",
    "  if value == 0:\n",
    "    result.append(\"Busiest day\")\n",
    "  elif value == 4:\n",
    "    result.append(\"Least busy\")\n",
    "  else:\n",
    "    result.append(\"Regularly busy\")"
   ]
  },
  {
   "cell_type": "code",
   "execution_count": 25,
   "id": "8d1ca50f",
   "metadata": {},
   "outputs": [],
   "source": [
    "df_ords_prods['busiest_day'] = result"
   ]
  },
  {
   "cell_type": "code",
   "execution_count": 26,
   "id": "0b6d0e43",
   "metadata": {},
   "outputs": [
    {
     "data": {
      "text/plain": [
       "Regularly busy    22437999\n",
       "Busiest day        6209808\n",
       "Least busy         3787263\n",
       "Name: busiest_day, dtype: int64"
      ]
     },
     "execution_count": 26,
     "metadata": {},
     "output_type": "execute_result"
    }
   ],
   "source": [
    "df_ords_prods['busiest_day'].value_counts(dropna = False)"
   ]
  },
  {
   "cell_type": "markdown",
   "id": "e198f0f1",
   "metadata": {},
   "source": [
    "07. Starting Task 4.7 from question 2"
   ]
  },
  {
   "cell_type": "code",
   "execution_count": 27,
   "id": "0ef9c73a",
   "metadata": {},
   "outputs": [],
   "source": [
    "# Starting Task 4.7 from question 2 => looking for busiest days\n",
    "result_v2 = []\n",
    "\n",
    "for value in df_ords_prods[\"orders_day_of_week\"]:\n",
    "  if value == 0 or value ==1:\n",
    "    result_v2.append(\"Busiests days\")\n",
    "  elif value == 4 or value == 3:\n",
    "    result_v2.append(\"Slowest days\")\n",
    "  else:\n",
    "    result_v2.append(\"Regularly busy\")"
   ]
  },
  {
   "cell_type": "code",
   "execution_count": 28,
   "id": "bf35fd64",
   "metadata": {},
   "outputs": [],
   "source": [
    "# Assigning results to a new column\n",
    "df_ords_prods['Busiest days'] = result_v2"
   ]
  },
  {
   "cell_type": "code",
   "execution_count": 29,
   "id": "e426f67f",
   "metadata": {},
   "outputs": [
    {
     "data": {
      "text/plain": [
       "Regularly busy    12927873\n",
       "Busiests days     11875759\n",
       "Slowest days       7631438\n",
       "Name: Busiest days, dtype: int64"
      ]
     },
     "execution_count": 29,
     "metadata": {},
     "output_type": "execute_result"
    }
   ],
   "source": [
    "# Checking values of new column\n",
    "df_ords_prods['Busiest days'].value_counts(dropna = False)"
   ]
  },
  {
   "cell_type": "markdown",
   "id": "396c5d9b",
   "metadata": {},
   "source": [
    "I checked the results of this new column with the frequency values above and they match. The loop has been executed correctly."
   ]
  },
  {
   "cell_type": "code",
   "execution_count": 30,
   "id": "92cd7275",
   "metadata": {},
   "outputs": [
    {
     "data": {
      "text/plain": [
       "10.0    2764476\n",
       "11.0    2738647\n",
       "14.0    2691598\n",
       "15.0    2664583\n",
       "13.0    2663346\n",
       "12.0    2620898\n",
       "16.0    2537506\n",
       "9.0     2456751\n",
       "17.0    2089510\n",
       "8.0     1719991\n",
       "18.0    1637956\n",
       "19.0    1259416\n",
       "20.0     977049\n",
       "7.0      891951\n",
       "21.0     796379\n",
       "22.0     634743\n",
       "23.0     402621\n",
       "6.0      290796\n",
       "0.0      218951\n",
       "1.0      115787\n",
       "5.0       88064\n",
       "2.0       69435\n",
       "4.0       53284\n",
       "3.0       51321\n",
       "NaN          11\n",
       "Name: order_hour_of_day, dtype: int64"
      ]
     },
     "execution_count": 30,
     "metadata": {},
     "output_type": "execute_result"
    }
   ],
   "source": [
    "# Question 4 => busiest hour of the day\n",
    "df_ords_prods['order_hour_of_day'].value_counts(dropna = False)"
   ]
  },
  {
   "cell_type": "code",
   "execution_count": 36,
   "id": "330e6a36",
   "metadata": {},
   "outputs": [],
   "source": [
    "# Starting Task 4.7, question 4 => looking for busiest hours\n",
    "\n",
    "period = []\n",
    "\n",
    "for value in df_ords_prods[\"order_hour_of_day\"]:\n",
    "  if value in [10,11,14,15,13,12,16,9,17]:\n",
    "    period.append(\"Most orders\")\n",
    "  elif value in [23,6,0,1,5,2,4,3]:\n",
    "    period.append(\"Fewest orders\")\n",
    "  else:\n",
    "    period.append(\"Average orders\")"
   ]
  },
  {
   "cell_type": "code",
   "execution_count": 37,
   "id": "85a03694",
   "metadata": {},
   "outputs": [],
   "source": [
    "# Assigning the variable to a new column\n",
    "df_ords_prods['Busiest hours'] = period"
   ]
  },
  {
   "cell_type": "code",
   "execution_count": 39,
   "id": "076a60b5",
   "metadata": {},
   "outputs": [
    {
     "data": {
      "text/plain": [
       "Most orders       23227315\n",
       "Average orders     7917496\n",
       "Fewest orders      1290259\n",
       "Name: Busiest hours, dtype: int64"
      ]
     },
     "execution_count": 39,
     "metadata": {},
     "output_type": "execute_result"
    }
   ],
   "source": [
    "# Printing frequency values\n",
    "df_ords_prods['Busiest hours'].value_counts(dropna = False)"
   ]
  },
  {
   "cell_type": "markdown",
   "id": "621491e3",
   "metadata": {},
   "source": [
    "08. Exporting new file to Pickle"
   ]
  },
  {
   "cell_type": "code",
   "execution_count": 40,
   "id": "5da1b8a0",
   "metadata": {},
   "outputs": [],
   "source": [
    "df_ords_prods.to_pickle(os.path.join(path, '2-Data','Prepared Data', 'orders_products_newvariables.pkl'))"
   ]
  },
  {
   "cell_type": "code",
   "execution_count": null,
   "id": "531d31e2",
   "metadata": {},
   "outputs": [],
   "source": []
  }
 ],
 "metadata": {
  "kernelspec": {
   "display_name": "Python 3 (ipykernel)",
   "language": "python",
   "name": "python3"
  },
  "language_info": {
   "codemirror_mode": {
    "name": "ipython",
    "version": 3
   },
   "file_extension": ".py",
   "mimetype": "text/x-python",
   "name": "python",
   "nbconvert_exporter": "python",
   "pygments_lexer": "ipython3",
   "version": "3.11.3"
  }
 },
 "nbformat": 4,
 "nbformat_minor": 5
}
