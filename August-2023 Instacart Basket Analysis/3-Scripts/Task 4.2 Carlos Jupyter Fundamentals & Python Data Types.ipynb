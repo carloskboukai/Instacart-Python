{
 "cells": [
  {
   "cell_type": "markdown",
   "id": "f406e429",
   "metadata": {},
   "source": [
    "This notebook contains the following:\n",
    "\n",
    "01 - Learning how to import libraries\n",
    "\n",
    "02 - Start to working with Python\n",
    "\n",
    "    -summing\n",
    "    \n",
    "    -resting\n",
    "    \n",
    "    -mixing both\n",
    "    \n",
    "    -working with string data\n",
    "\n"
   ]
  },
  {
   "cell_type": "markdown",
   "id": "f1a7b577",
   "metadata": {},
   "source": [
    "01.Importing libraries."
   ]
  },
  {
   "cell_type": "code",
   "execution_count": 1,
   "id": "e8e4080c",
   "metadata": {},
   "outputs": [],
   "source": [
    "# Import libraries\n",
    "import pandas as pd\n",
    "import numpy as np\n",
    "import os"
   ]
  },
  {
   "cell_type": "markdown",
   "id": "9f30008c",
   "metadata": {},
   "source": [
    "02.Working with Python data types."
   ]
  },
  {
   "cell_type": "markdown",
   "id": "1f6a23bc",
   "metadata": {},
   "source": [
    "First coding to reach 100 - by adding"
   ]
  },
  {
   "cell_type": "code",
   "execution_count": 2,
   "id": "9c2597cd",
   "metadata": {},
   "outputs": [],
   "source": [
    "a=10"
   ]
  },
  {
   "cell_type": "code",
   "execution_count": 3,
   "id": "5a46fe5f",
   "metadata": {},
   "outputs": [],
   "source": [
    "b=40"
   ]
  },
  {
   "cell_type": "code",
   "execution_count": 4,
   "id": "610765f7",
   "metadata": {},
   "outputs": [],
   "source": [
    "c=50"
   ]
  },
  {
   "cell_type": "code",
   "execution_count": 5,
   "id": "f1b07bdc",
   "metadata": {},
   "outputs": [
    {
     "data": {
      "text/plain": [
       "100"
      ]
     },
     "execution_count": 5,
     "metadata": {},
     "output_type": "execute_result"
    }
   ],
   "source": [
    "a+b+c"
   ]
  },
  {
   "cell_type": "code",
   "execution_count": 6,
   "id": "316110e1",
   "metadata": {},
   "outputs": [
    {
     "data": {
      "text/plain": [
       "int"
      ]
     },
     "execution_count": 6,
     "metadata": {},
     "output_type": "execute_result"
    }
   ],
   "source": [
    "type(a+b+c)"
   ]
  },
  {
   "cell_type": "markdown",
   "id": "6c5c3d43",
   "metadata": {},
   "source": [
    "Second attempt to reach 100 - by substraction"
   ]
  },
  {
   "cell_type": "code",
   "execution_count": 7,
   "id": "eda9740e",
   "metadata": {},
   "outputs": [],
   "source": [
    "d=200"
   ]
  },
  {
   "cell_type": "code",
   "execution_count": 8,
   "id": "6e5eb2eb",
   "metadata": {},
   "outputs": [],
   "source": [
    "e=70"
   ]
  },
  {
   "cell_type": "code",
   "execution_count": 9,
   "id": "15f45525",
   "metadata": {},
   "outputs": [],
   "source": [
    "f=30"
   ]
  },
  {
   "cell_type": "code",
   "execution_count": 10,
   "id": "61ae3c3f",
   "metadata": {},
   "outputs": [
    {
     "data": {
      "text/plain": [
       "100"
      ]
     },
     "execution_count": 10,
     "metadata": {},
     "output_type": "execute_result"
    }
   ],
   "source": [
    "d-e-f"
   ]
  },
  {
   "cell_type": "code",
   "execution_count": 11,
   "id": "24bc1939",
   "metadata": {},
   "outputs": [
    {
     "data": {
      "text/plain": [
       "int"
      ]
     },
     "execution_count": 11,
     "metadata": {},
     "output_type": "execute_result"
    }
   ],
   "source": [
    "type(d-e-f)"
   ]
  },
  {
   "cell_type": "markdown",
   "id": "988d9532",
   "metadata": {},
   "source": [
    "Third attemp to reach 100 - mixing addition and substraction"
   ]
  },
  {
   "cell_type": "code",
   "execution_count": 12,
   "id": "b9149abd",
   "metadata": {},
   "outputs": [],
   "source": [
    "g=200"
   ]
  },
  {
   "cell_type": "code",
   "execution_count": 13,
   "id": "c621acdb",
   "metadata": {},
   "outputs": [],
   "source": [
    "h=110"
   ]
  },
  {
   "cell_type": "code",
   "execution_count": 14,
   "id": "fe948071",
   "metadata": {},
   "outputs": [],
   "source": [
    "i=10"
   ]
  },
  {
   "cell_type": "code",
   "execution_count": 15,
   "id": "f80b878f",
   "metadata": {},
   "outputs": [
    {
     "data": {
      "text/plain": [
       "100"
      ]
     },
     "execution_count": 15,
     "metadata": {},
     "output_type": "execute_result"
    }
   ],
   "source": [
    "g-h+i"
   ]
  },
  {
   "cell_type": "code",
   "execution_count": 16,
   "id": "5c53b299",
   "metadata": {},
   "outputs": [
    {
     "data": {
      "text/plain": [
       "int"
      ]
     },
     "execution_count": 16,
     "metadata": {},
     "output_type": "execute_result"
    }
   ],
   "source": [
    "type(g-h+i)"
   ]
  },
  {
   "cell_type": "markdown",
   "id": "bf3e978a",
   "metadata": {},
   "source": [
    "Creating floating-point variables and dividing them by each other"
   ]
  },
  {
   "cell_type": "code",
   "execution_count": 19,
   "id": "bb962846",
   "metadata": {},
   "outputs": [],
   "source": [
    "j=6.4"
   ]
  },
  {
   "cell_type": "code",
   "execution_count": 20,
   "id": "fda2963e",
   "metadata": {},
   "outputs": [],
   "source": [
    "k=3.2"
   ]
  },
  {
   "cell_type": "code",
   "execution_count": 21,
   "id": "f43f3985",
   "metadata": {},
   "outputs": [
    {
     "data": {
      "text/plain": [
       "2.0"
      ]
     },
     "execution_count": 21,
     "metadata": {},
     "output_type": "execute_result"
    }
   ],
   "source": [
    "j/k"
   ]
  },
  {
   "cell_type": "code",
   "execution_count": 22,
   "id": "e8bc2066",
   "metadata": {},
   "outputs": [
    {
     "data": {
      "text/plain": [
       "float"
      ]
     },
     "execution_count": 22,
     "metadata": {},
     "output_type": "execute_result"
    }
   ],
   "source": [
    "type(j/k)"
   ]
  },
  {
   "cell_type": "markdown",
   "id": "2d00b3e8",
   "metadata": {},
   "source": [
    "Construct a short word made of separate strings"
   ]
  },
  {
   "cell_type": "code",
   "execution_count": 23,
   "id": "e17e9256",
   "metadata": {},
   "outputs": [],
   "source": [
    "l= 'ne'"
   ]
  },
  {
   "cell_type": "code",
   "execution_count": 24,
   "id": "f20f1570",
   "metadata": {},
   "outputs": [],
   "source": [
    "m= 'ed'"
   ]
  },
  {
   "cell_type": "code",
   "execution_count": 25,
   "id": "471f4cb9",
   "metadata": {},
   "outputs": [],
   "source": [
    "n= ' to'"
   ]
  },
  {
   "cell_type": "code",
   "execution_count": 26,
   "id": "c964a067",
   "metadata": {},
   "outputs": [],
   "source": [
    "o= ' get'"
   ]
  },
  {
   "cell_type": "code",
   "execution_count": 30,
   "id": "e312e67b",
   "metadata": {},
   "outputs": [],
   "source": [
    "p= ' this'"
   ]
  },
  {
   "cell_type": "code",
   "execution_count": 28,
   "id": "c5c4963f",
   "metadata": {},
   "outputs": [],
   "source": [
    "q= ' right'"
   ]
  },
  {
   "cell_type": "code",
   "execution_count": 31,
   "id": "9291876d",
   "metadata": {},
   "outputs": [
    {
     "data": {
      "text/plain": [
       "'need to get this right'"
      ]
     },
     "execution_count": 31,
     "metadata": {},
     "output_type": "execute_result"
    }
   ],
   "source": [
    "l+m+n+o+p+q"
   ]
  },
  {
   "cell_type": "code",
   "execution_count": 32,
   "id": "4b5d782b",
   "metadata": {},
   "outputs": [
    {
     "data": {
      "text/plain": [
       "str"
      ]
     },
     "execution_count": 32,
     "metadata": {},
     "output_type": "execute_result"
    }
   ],
   "source": [
    "type(l+m+n+o+p+q)"
   ]
  },
  {
   "cell_type": "markdown",
   "id": "74b7d0cb",
   "metadata": {},
   "source": [
    "Construct 2 short sentences made of separate strings"
   ]
  },
  {
   "cell_type": "code",
   "execution_count": 33,
   "id": "721d09d7",
   "metadata": {},
   "outputs": [],
   "source": [
    "r= 'This exercise'"
   ]
  },
  {
   "cell_type": "code",
   "execution_count": 34,
   "id": "9519c37d",
   "metadata": {},
   "outputs": [],
   "source": [
    "s= ' is fun and helpful.'"
   ]
  },
  {
   "cell_type": "code",
   "execution_count": 35,
   "id": "ebaeafb1",
   "metadata": {},
   "outputs": [
    {
     "data": {
      "text/plain": [
       "'This exercise is fun and helpful.'"
      ]
     },
     "execution_count": 35,
     "metadata": {},
     "output_type": "execute_result"
    }
   ],
   "source": [
    "r+s"
   ]
  },
  {
   "cell_type": "code",
   "execution_count": 36,
   "id": "8922a39c",
   "metadata": {},
   "outputs": [
    {
     "data": {
      "text/plain": [
       "str"
      ]
     },
     "execution_count": 36,
     "metadata": {},
     "output_type": "execute_result"
    }
   ],
   "source": [
    "type (r+s)"
   ]
  },
  {
   "cell_type": "code",
   "execution_count": 37,
   "id": "4dde630c",
   "metadata": {},
   "outputs": [],
   "source": [
    "t= 'Python is not'"
   ]
  },
  {
   "cell_type": "code",
   "execution_count": 38,
   "id": "ef8e5efa",
   "metadata": {},
   "outputs": [],
   "source": [
    "u= ' difficult. Just need'"
   ]
  },
  {
   "cell_type": "code",
   "execution_count": 39,
   "id": "6689efb5",
   "metadata": {},
   "outputs": [],
   "source": [
    "v= ' to focus.'"
   ]
  },
  {
   "cell_type": "code",
   "execution_count": 40,
   "id": "03a29eb9",
   "metadata": {},
   "outputs": [
    {
     "data": {
      "text/plain": [
       "'Python is not difficult. Just need to focus.'"
      ]
     },
     "execution_count": 40,
     "metadata": {},
     "output_type": "execute_result"
    }
   ],
   "source": [
    "t+u+v"
   ]
  },
  {
   "cell_type": "code",
   "execution_count": 41,
   "id": "386e329c",
   "metadata": {},
   "outputs": [
    {
     "data": {
      "text/plain": [
       "str"
      ]
     },
     "execution_count": 41,
     "metadata": {},
     "output_type": "execute_result"
    }
   ],
   "source": [
    "type(t+u+v)"
   ]
  },
  {
   "cell_type": "markdown",
   "id": "758053e6",
   "metadata": {},
   "source": [
    "At the bottom of your file, include a command that makes a string appear 100 times."
   ]
  },
  {
   "cell_type": "code",
   "execution_count": 42,
   "id": "b2dd37d3",
   "metadata": {},
   "outputs": [],
   "source": [
    "x= 'Hello'"
   ]
  },
  {
   "cell_type": "code",
   "execution_count": 43,
   "id": "a6636527",
   "metadata": {},
   "outputs": [],
   "source": [
    "y= ' my Tutor. '"
   ]
  },
  {
   "cell_type": "code",
   "execution_count": 44,
   "id": "db427caf",
   "metadata": {},
   "outputs": [
    {
     "data": {
      "text/plain": [
       "'Hello my Tutor. '"
      ]
     },
     "execution_count": 44,
     "metadata": {},
     "output_type": "execute_result"
    }
   ],
   "source": [
    "x+y"
   ]
  },
  {
   "cell_type": "code",
   "execution_count": 45,
   "id": "ba1b202c",
   "metadata": {},
   "outputs": [
    {
     "data": {
      "text/plain": [
       "'Hello my Tutor. Hello my Tutor. Hello my Tutor. Hello my Tutor. Hello my Tutor. Hello my Tutor. Hello my Tutor. Hello my Tutor. Hello my Tutor. Hello my Tutor. Hello my Tutor. Hello my Tutor. Hello my Tutor. Hello my Tutor. Hello my Tutor. Hello my Tutor. Hello my Tutor. Hello my Tutor. Hello my Tutor. Hello my Tutor. Hello my Tutor. Hello my Tutor. Hello my Tutor. Hello my Tutor. Hello my Tutor. Hello my Tutor. Hello my Tutor. Hello my Tutor. Hello my Tutor. Hello my Tutor. Hello my Tutor. Hello my Tutor. Hello my Tutor. Hello my Tutor. Hello my Tutor. Hello my Tutor. Hello my Tutor. Hello my Tutor. Hello my Tutor. Hello my Tutor. Hello my Tutor. Hello my Tutor. Hello my Tutor. Hello my Tutor. Hello my Tutor. Hello my Tutor. Hello my Tutor. Hello my Tutor. Hello my Tutor. Hello my Tutor. Hello my Tutor. Hello my Tutor. Hello my Tutor. Hello my Tutor. Hello my Tutor. Hello my Tutor. Hello my Tutor. Hello my Tutor. Hello my Tutor. Hello my Tutor. Hello my Tutor. Hello my Tutor. Hello my Tutor. Hello my Tutor. Hello my Tutor. Hello my Tutor. Hello my Tutor. Hello my Tutor. Hello my Tutor. Hello my Tutor. Hello my Tutor. Hello my Tutor. Hello my Tutor. Hello my Tutor. Hello my Tutor. Hello my Tutor. Hello my Tutor. Hello my Tutor. Hello my Tutor. Hello my Tutor. Hello my Tutor. Hello my Tutor. Hello my Tutor. Hello my Tutor. Hello my Tutor. Hello my Tutor. Hello my Tutor. Hello my Tutor. Hello my Tutor. Hello my Tutor. Hello my Tutor. Hello my Tutor. Hello my Tutor. Hello my Tutor. Hello my Tutor. Hello my Tutor. Hello my Tutor. Hello my Tutor. Hello my Tutor. Hello my Tutor. '"
      ]
     },
     "execution_count": 45,
     "metadata": {},
     "output_type": "execute_result"
    }
   ],
   "source": [
    "(x+y)*100"
   ]
  },
  {
   "cell_type": "code",
   "execution_count": null,
   "id": "307f5b0f",
   "metadata": {},
   "outputs": [],
   "source": []
  }
 ],
 "metadata": {
  "kernelspec": {
   "display_name": "Python 3 (ipykernel)",
   "language": "python",
   "name": "python3"
  },
  "language_info": {
   "codemirror_mode": {
    "name": "ipython",
    "version": 3
   },
   "file_extension": ".py",
   "mimetype": "text/x-python",
   "name": "python",
   "nbconvert_exporter": "python",
   "pygments_lexer": "ipython3",
   "version": "3.11.3"
  }
 },
 "nbformat": 4,
 "nbformat_minor": 5
}
