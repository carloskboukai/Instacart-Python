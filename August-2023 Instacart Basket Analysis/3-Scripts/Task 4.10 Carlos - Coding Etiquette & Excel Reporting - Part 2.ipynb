{
 "cells": [
  {
   "cell_type": "markdown",
   "id": "1b84dc84",
   "metadata": {},
   "source": [
    "\n",
    "This Notebook contains the following:\n",
    "\n",
    "01 - Creating new notebook, importing libraries and dataframe.\n",
    "\n",
    "02 - Creating a subset of the data (subfinal) to facilitate analysis\n",
    "\n",
    "03 - Creating a data dictionary of 'department_id' to facilitate profiling of clients\n",
    "\n",
    "04 - Creating age groups\n",
    "\n",
    "05 - Creating dependants group\n",
    "\n",
    "06 - Creating an income group\n",
    "\n",
    "07 - Customers' profile => family status\n",
    "\n",
    "08 - Customers' profile => income status\n",
    "\n",
    "09 - Day of the week purchases data\n",
    "\n",
    "10 - Hour of day purchases data\n",
    "\n",
    "11 - Exporting subset data to file"
   ]
  },
  {
   "cell_type": "markdown",
   "id": "91bbb207",
   "metadata": {},
   "source": [
    "01. Starting new notebook"
   ]
  },
  {
   "cell_type": "code",
   "execution_count": 1,
   "id": "e0804bd1",
   "metadata": {},
   "outputs": [],
   "source": [
    "# Importing Analitycal and Visual libraries\n",
    "import pandas as pd\n",
    "import numpy as np\n",
    "import os\n",
    "import matplotlib.pyplot as plt\n",
    "import seaborn as sns\n",
    "import scipy"
   ]
  },
  {
   "cell_type": "code",
   "execution_count": 2,
   "id": "7120c518",
   "metadata": {},
   "outputs": [],
   "source": [
    "# Establishing a path to import data frames\n",
    "path = r'C:\\Users\\Paola\\Desktop\\Shaul\\Data\\CF\\August-2023 Instacart Basket Analysis'"
   ]
  },
  {
   "cell_type": "code",
   "execution_count": 3,
   "id": "410143ef",
   "metadata": {},
   "outputs": [
    {
     "data": {
      "text/plain": [
       "'C:\\\\Users\\\\Paola\\\\Desktop\\\\Shaul\\\\Data\\\\CF\\\\August-2023 Instacart Basket Analysis'"
      ]
     },
     "execution_count": 3,
     "metadata": {},
     "output_type": "execute_result"
    }
   ],
   "source": [
    "path"
   ]
  },
  {
   "cell_type": "code",
   "execution_count": 4,
   "id": "bb92ed08",
   "metadata": {},
   "outputs": [],
   "source": [
    "# Importing 'orders_products_variablesfixed.pkl' data set\n",
    "dfready = pd.read_pickle(os.path.join(path, '2-Data', 'Prepared Data', 'orders_products_customers_updated.pkl'))"
   ]
  },
  {
   "cell_type": "markdown",
   "id": "df038dc4",
   "metadata": {},
   "source": [
    "02. Starting question 5 => Creating a sample of the data"
   ]
  },
  {
   "cell_type": "code",
   "execution_count": 5,
   "id": "28446c7d",
   "metadata": {},
   "outputs": [],
   "source": [
    "# Sampling the data - creating a list holding true/false values to the test np.random.rant() <= 0.7\n",
    "np.random.seed(4)\n",
    "dev = np.random.rand(len(dfready)) <= 0.7"
   ]
  },
  {
   "cell_type": "code",
   "execution_count": 6,
   "id": "c2473040",
   "metadata": {},
   "outputs": [
    {
     "data": {
      "text/plain": [
       "array([False,  True, False, ..., False, False,  True])"
      ]
     },
     "execution_count": 6,
     "metadata": {},
     "output_type": "execute_result"
    }
   ],
   "source": [
    "# Checking the result\n",
    "dev"
   ]
  },
  {
   "cell_type": "code",
   "execution_count": 7,
   "id": "7e8efde5",
   "metadata": {},
   "outputs": [
    {
     "data": {
      "text/plain": [
       "array([0.68095763, 0.15935648, 0.69280176, 0.31167894, 0.93377451,\n",
       "       0.24387245, 0.55180478, 0.86730921, 0.0738187 , 0.72368888])"
      ]
     },
     "execution_count": 7,
     "metadata": {},
     "output_type": "execute_result"
    }
   ],
   "source": [
    "np.random.rand(10)"
   ]
  },
  {
   "cell_type": "code",
   "execution_count": 8,
   "id": "bf8e5e4e",
   "metadata": {},
   "outputs": [],
   "source": [
    "# Store 70% of the sample in dataframe Big\n",
    "big = dfready[dev]"
   ]
  },
  {
   "cell_type": "code",
   "execution_count": 9,
   "id": "e7b9b84d",
   "metadata": {},
   "outputs": [],
   "source": [
    "# Store 30% of the sample in dataframe Small\n",
    "small = dfready[~dev]"
   ]
  },
  {
   "cell_type": "code",
   "execution_count": 10,
   "id": "e1be2449",
   "metadata": {},
   "outputs": [
    {
     "data": {
      "text/plain": [
       "30993489"
      ]
     },
     "execution_count": 10,
     "metadata": {},
     "output_type": "execute_result"
    }
   ],
   "source": [
    "# Comparing samples with dataframe\n",
    "len(dfready)"
   ]
  },
  {
   "cell_type": "code",
   "execution_count": 11,
   "id": "7b3125fc",
   "metadata": {},
   "outputs": [
    {
     "data": {
      "text/plain": [
       "30993489"
      ]
     },
     "execution_count": 11,
     "metadata": {},
     "output_type": "execute_result"
    }
   ],
   "source": [
    "len(big) + len(small)"
   ]
  },
  {
   "cell_type": "code",
   "execution_count": 12,
   "id": "727329d9",
   "metadata": {},
   "outputs": [],
   "source": [
    "# Naming/Creating the subset\n",
    "subfinal = small"
   ]
  },
  {
   "cell_type": "code",
   "execution_count": 13,
   "id": "6dbea8b3",
   "metadata": {},
   "outputs": [
    {
     "data": {
      "text/plain": [
       "(9297268, 30)"
      ]
     },
     "execution_count": 13,
     "metadata": {},
     "output_type": "execute_result"
    }
   ],
   "source": [
    "# Checking subset shape\n",
    "small.shape"
   ]
  },
  {
   "cell_type": "code",
   "execution_count": 14,
   "id": "e7a601b7",
   "metadata": {},
   "outputs": [
    {
     "data": {
      "text/plain": [
       "(9297268, 30)"
      ]
     },
     "execution_count": 14,
     "metadata": {},
     "output_type": "execute_result"
    }
   ],
   "source": [
    "subfinal.shape"
   ]
  },
  {
   "cell_type": "code",
   "execution_count": 15,
   "id": "4ee4904d",
   "metadata": {},
   "outputs": [
    {
     "data": {
      "text/plain": [
       "Index(['order_id', 'user_id', 'order_number', 'orders_day_of_week',\n",
       "       'order_hour_of_day', 'days_since_prior_order', 'product_id',\n",
       "       'add_to_cart_order', 'reordered', 'product_name', 'aisle_id',\n",
       "       'department_id', 'prices', 'price_range_loc', 'Busiest days',\n",
       "       'Busiest hours', 'max_order', 'loyalty_flag', 'avg_prices',\n",
       "       'spending_flag', 'median_prior_order', 'frequency_flag', 'gender',\n",
       "       'state', 'age', 'dependants', 'civil_status', 'income', 'region',\n",
       "       'exclusion_flag'],\n",
       "      dtype='object')"
      ]
     },
     "execution_count": 15,
     "metadata": {},
     "output_type": "execute_result"
    }
   ],
   "source": [
    "subfinal.columns"
   ]
  },
  {
   "cell_type": "markdown",
   "id": "4ae0688c",
   "metadata": {},
   "source": [
    "03. Creating a data dictionary of 'department_id' to facilitate profiling of clients"
   ]
  },
  {
   "cell_type": "code",
   "execution_count": 16,
   "id": "d113dcbc",
   "metadata": {},
   "outputs": [],
   "source": [
    "# Importing data set 'departments.csv'\n",
    "df_dep = pd.read_csv(os.path.join(path, '2-Data', 'Prepared Data', 'departments_wrangled.csv'), index_col = False)"
   ]
  },
  {
   "cell_type": "code",
   "execution_count": 17,
   "id": "92ceadf7",
   "metadata": {},
   "outputs": [],
   "source": [
    "data_dict = df_dep.to_dict('index')"
   ]
  },
  {
   "cell_type": "code",
   "execution_count": 18,
   "id": "fb7bf1e4",
   "metadata": {},
   "outputs": [
    {
     "data": {
      "text/plain": [
       "{0: {'Unnamed: 0': 1, 'department': 'frozen'},\n",
       " 1: {'Unnamed: 0': 2, 'department': 'other'},\n",
       " 2: {'Unnamed: 0': 3, 'department': 'bakery'},\n",
       " 3: {'Unnamed: 0': 4, 'department': 'produce'},\n",
       " 4: {'Unnamed: 0': 5, 'department': 'alcohol'},\n",
       " 5: {'Unnamed: 0': 6, 'department': 'international'},\n",
       " 6: {'Unnamed: 0': 7, 'department': 'beverages'},\n",
       " 7: {'Unnamed: 0': 8, 'department': 'pets'},\n",
       " 8: {'Unnamed: 0': 9, 'department': 'dry goods pasta'},\n",
       " 9: {'Unnamed: 0': 10, 'department': 'bulk'},\n",
       " 10: {'Unnamed: 0': 11, 'department': 'personal care'},\n",
       " 11: {'Unnamed: 0': 12, 'department': 'meat seafood'},\n",
       " 12: {'Unnamed: 0': 13, 'department': 'pantry'},\n",
       " 13: {'Unnamed: 0': 14, 'department': 'breakfast'},\n",
       " 14: {'Unnamed: 0': 15, 'department': 'canned goods'},\n",
       " 15: {'Unnamed: 0': 16, 'department': 'dairy eggs'},\n",
       " 16: {'Unnamed: 0': 17, 'department': 'household'},\n",
       " 17: {'Unnamed: 0': 18, 'department': 'babies'},\n",
       " 18: {'Unnamed: 0': 19, 'department': 'snacks'},\n",
       " 19: {'Unnamed: 0': 20, 'department': 'deli'},\n",
       " 20: {'Unnamed: 0': 21, 'department': 'missing'}}"
      ]
     },
     "execution_count": 18,
     "metadata": {},
     "output_type": "execute_result"
    }
   ],
   "source": [
    "data_dict"
   ]
  },
  {
   "cell_type": "code",
   "execution_count": 19,
   "id": "45cfd02f",
   "metadata": {},
   "outputs": [
    {
     "name": "stderr",
     "output_type": "stream",
     "text": [
      "C:\\Users\\Paola\\AppData\\Local\\Temp\\ipykernel_14792\\4119633327.py:2: SettingWithCopyWarning: \n",
      "A value is trying to be set on a copy of a slice from a DataFrame.\n",
      "Try using .loc[row_indexer,col_indexer] = value instead\n",
      "\n",
      "See the caveats in the documentation: https://pandas.pydata.org/pandas-docs/stable/user_guide/indexing.html#returning-a-view-versus-a-copy\n",
      "  subfinal.loc[subfinal['department_id'] == 1, 'department'] = 'frozen'\n"
     ]
    }
   ],
   "source": [
    "# Creating a new column/variable\n",
    "subfinal.loc[subfinal['department_id'] == 1, 'department'] = 'frozen'"
   ]
  },
  {
   "cell_type": "code",
   "execution_count": 20,
   "id": "d7a95ad9",
   "metadata": {},
   "outputs": [],
   "source": [
    "subfinal.loc[subfinal['department_id'] == 2, 'department'] = 'other'"
   ]
  },
  {
   "cell_type": "code",
   "execution_count": 21,
   "id": "69efb214",
   "metadata": {},
   "outputs": [],
   "source": [
    "subfinal.loc[subfinal['department_id'] == 3, 'department'] = 'bakery'"
   ]
  },
  {
   "cell_type": "code",
   "execution_count": 22,
   "id": "efe1922d",
   "metadata": {},
   "outputs": [],
   "source": [
    "subfinal.loc[subfinal['department_id'] == 4, 'department'] = 'produce'"
   ]
  },
  {
   "cell_type": "code",
   "execution_count": 23,
   "id": "41a4a3e8",
   "metadata": {},
   "outputs": [],
   "source": [
    "subfinal.loc[subfinal['department_id'] == 5, 'department'] = 'alcohol'"
   ]
  },
  {
   "cell_type": "code",
   "execution_count": 24,
   "id": "240945bc",
   "metadata": {},
   "outputs": [],
   "source": [
    "subfinal.loc[subfinal['department_id'] == 6, 'department'] = 'international'"
   ]
  },
  {
   "cell_type": "code",
   "execution_count": 25,
   "id": "25d9a9a4",
   "metadata": {},
   "outputs": [],
   "source": [
    "subfinal.loc[subfinal['department_id'] == 7, 'department'] = 'beverages'"
   ]
  },
  {
   "cell_type": "code",
   "execution_count": 26,
   "id": "84d1f875",
   "metadata": {},
   "outputs": [],
   "source": [
    "subfinal.loc[subfinal['department_id'] == 8, 'department'] = 'pets'"
   ]
  },
  {
   "cell_type": "code",
   "execution_count": 27,
   "id": "2e1551df",
   "metadata": {},
   "outputs": [],
   "source": [
    "subfinal.loc[subfinal['department_id'] == 9, 'department'] = 'dry goods pasta'"
   ]
  },
  {
   "cell_type": "code",
   "execution_count": 28,
   "id": "e58480bb",
   "metadata": {},
   "outputs": [],
   "source": [
    "subfinal.loc[subfinal['department_id'] == 10, 'department'] = 'bulk'"
   ]
  },
  {
   "cell_type": "code",
   "execution_count": 29,
   "id": "986f60c5",
   "metadata": {},
   "outputs": [],
   "source": [
    "subfinal.loc[subfinal['department_id'] == 11, 'department'] = 'personal care'"
   ]
  },
  {
   "cell_type": "code",
   "execution_count": 30,
   "id": "7bf99e41",
   "metadata": {},
   "outputs": [],
   "source": [
    "subfinal.loc[subfinal['department_id'] == 12, 'department'] = 'meat sea food'"
   ]
  },
  {
   "cell_type": "code",
   "execution_count": 31,
   "id": "c5d6942a",
   "metadata": {},
   "outputs": [],
   "source": [
    "subfinal.loc[subfinal['department_id'] == 13, 'department'] = 'pantry'"
   ]
  },
  {
   "cell_type": "code",
   "execution_count": 32,
   "id": "bc3438ae",
   "metadata": {},
   "outputs": [],
   "source": [
    "subfinal.loc[subfinal['department_id'] == 14, 'department'] = 'breakfast'"
   ]
  },
  {
   "cell_type": "code",
   "execution_count": 33,
   "id": "18b8f97f",
   "metadata": {},
   "outputs": [],
   "source": [
    "subfinal.loc[subfinal['department_id'] == 15, 'department'] = 'canned goods'"
   ]
  },
  {
   "cell_type": "code",
   "execution_count": 34,
   "id": "3abd9ad6",
   "metadata": {},
   "outputs": [],
   "source": [
    "subfinal.loc[subfinal['department_id'] == 16, 'department'] = 'dairy eggs'"
   ]
  },
  {
   "cell_type": "code",
   "execution_count": 35,
   "id": "d6e9bd97",
   "metadata": {},
   "outputs": [],
   "source": [
    "subfinal.loc[subfinal['department_id'] == 17, 'department'] = 'households'"
   ]
  },
  {
   "cell_type": "code",
   "execution_count": 36,
   "id": "c7942cca",
   "metadata": {},
   "outputs": [],
   "source": [
    "subfinal.loc[subfinal['department_id'] == 18, 'department'] = 'baby'"
   ]
  },
  {
   "cell_type": "code",
   "execution_count": 37,
   "id": "e8762782",
   "metadata": {},
   "outputs": [],
   "source": [
    "subfinal.loc[subfinal['department_id'] == 19, 'department'] = 'snacks'"
   ]
  },
  {
   "cell_type": "code",
   "execution_count": 38,
   "id": "73478dc7",
   "metadata": {},
   "outputs": [],
   "source": [
    "subfinal.loc[subfinal['department_id'] == 20, 'department'] = 'deli'"
   ]
  },
  {
   "cell_type": "code",
   "execution_count": 39,
   "id": "9abf4c6f",
   "metadata": {},
   "outputs": [],
   "source": [
    "subfinal.loc[subfinal['department_id'] == 21, 'department'] = 'missing'"
   ]
  },
  {
   "cell_type": "code",
   "execution_count": 40,
   "id": "266f474b",
   "metadata": {},
   "outputs": [
    {
     "data": {
      "text/plain": [
       "(9297268,)"
      ]
     },
     "execution_count": 40,
     "metadata": {},
     "output_type": "execute_result"
    }
   ],
   "source": [
    "# Checking frequency\n",
    "subfinal['department'].shape"
   ]
  },
  {
   "cell_type": "markdown",
   "id": "4d07839f",
   "metadata": {},
   "source": [
    "04. Creating age groups"
   ]
  },
  {
   "cell_type": "code",
   "execution_count": 41,
   "id": "e3b891ce",
   "metadata": {},
   "outputs": [
    {
     "data": {
      "text/html": [
       "<div>\n",
       "<style scoped>\n",
       "    .dataframe tbody tr th:only-of-type {\n",
       "        vertical-align: middle;\n",
       "    }\n",
       "\n",
       "    .dataframe tbody tr th {\n",
       "        vertical-align: top;\n",
       "    }\n",
       "\n",
       "    .dataframe thead tr th {\n",
       "        text-align: left;\n",
       "    }\n",
       "\n",
       "    .dataframe thead tr:last-of-type th {\n",
       "        text-align: right;\n",
       "    }\n",
       "</style>\n",
       "<table border=\"1\" class=\"dataframe\">\n",
       "  <thead>\n",
       "    <tr>\n",
       "      <th></th>\n",
       "      <th colspan=\"3\" halign=\"left\">age</th>\n",
       "    </tr>\n",
       "    <tr>\n",
       "      <th></th>\n",
       "      <th>mean</th>\n",
       "      <th>min</th>\n",
       "      <th>max</th>\n",
       "    </tr>\n",
       "    <tr>\n",
       "      <th>age</th>\n",
       "      <th></th>\n",
       "      <th></th>\n",
       "      <th></th>\n",
       "    </tr>\n",
       "  </thead>\n",
       "  <tbody>\n",
       "    <tr>\n",
       "      <th>18</th>\n",
       "      <td>18.0</td>\n",
       "      <td>18</td>\n",
       "      <td>18</td>\n",
       "    </tr>\n",
       "    <tr>\n",
       "      <th>19</th>\n",
       "      <td>19.0</td>\n",
       "      <td>19</td>\n",
       "      <td>19</td>\n",
       "    </tr>\n",
       "    <tr>\n",
       "      <th>20</th>\n",
       "      <td>20.0</td>\n",
       "      <td>20</td>\n",
       "      <td>20</td>\n",
       "    </tr>\n",
       "    <tr>\n",
       "      <th>21</th>\n",
       "      <td>21.0</td>\n",
       "      <td>21</td>\n",
       "      <td>21</td>\n",
       "    </tr>\n",
       "    <tr>\n",
       "      <th>22</th>\n",
       "      <td>22.0</td>\n",
       "      <td>22</td>\n",
       "      <td>22</td>\n",
       "    </tr>\n",
       "    <tr>\n",
       "      <th>...</th>\n",
       "      <td>...</td>\n",
       "      <td>...</td>\n",
       "      <td>...</td>\n",
       "    </tr>\n",
       "    <tr>\n",
       "      <th>77</th>\n",
       "      <td>77.0</td>\n",
       "      <td>77</td>\n",
       "      <td>77</td>\n",
       "    </tr>\n",
       "    <tr>\n",
       "      <th>78</th>\n",
       "      <td>78.0</td>\n",
       "      <td>78</td>\n",
       "      <td>78</td>\n",
       "    </tr>\n",
       "    <tr>\n",
       "      <th>79</th>\n",
       "      <td>79.0</td>\n",
       "      <td>79</td>\n",
       "      <td>79</td>\n",
       "    </tr>\n",
       "    <tr>\n",
       "      <th>80</th>\n",
       "      <td>80.0</td>\n",
       "      <td>80</td>\n",
       "      <td>80</td>\n",
       "    </tr>\n",
       "    <tr>\n",
       "      <th>81</th>\n",
       "      <td>81.0</td>\n",
       "      <td>81</td>\n",
       "      <td>81</td>\n",
       "    </tr>\n",
       "  </tbody>\n",
       "</table>\n",
       "<p>64 rows × 3 columns</p>\n",
       "</div>"
      ],
      "text/plain": [
       "      age        \n",
       "     mean min max\n",
       "age              \n",
       "18   18.0  18  18\n",
       "19   19.0  19  19\n",
       "20   20.0  20  20\n",
       "21   21.0  21  21\n",
       "22   22.0  22  22\n",
       "..    ...  ..  ..\n",
       "77   77.0  77  77\n",
       "78   78.0  78  78\n",
       "79   79.0  79  79\n",
       "80   80.0  80  80\n",
       "81   81.0  81  81\n",
       "\n",
       "[64 rows x 3 columns]"
      ]
     },
     "execution_count": 41,
     "metadata": {},
     "output_type": "execute_result"
    }
   ],
   "source": [
    "# Checking the age gaps of customers. Find out basic statistics.\n",
    "subfinal.groupby('age').agg({'age': ['mean', 'min', 'max']})"
   ]
  },
  {
   "cell_type": "code",
   "execution_count": 42,
   "id": "d1123ca9",
   "metadata": {},
   "outputs": [
    {
     "name": "stderr",
     "output_type": "stream",
     "text": [
      "C:\\Users\\Paola\\AppData\\Local\\Temp\\ipykernel_14792\\1477907421.py:2: SettingWithCopyWarning: \n",
      "A value is trying to be set on a copy of a slice from a DataFrame.\n",
      "Try using .loc[row_indexer,col_indexer] = value instead\n",
      "\n",
      "See the caveats in the documentation: https://pandas.pydata.org/pandas-docs/stable/user_guide/indexing.html#returning-a-view-versus-a-copy\n",
      "  subfinal.loc[subfinal['age'] < 40, 'age_group'] = 'Young customer'\n"
     ]
    }
   ],
   "source": [
    "# Creating a age flag column based in Customer age\n",
    "subfinal.loc[subfinal['age'] < 40, 'age_group'] = 'Young customer'"
   ]
  },
  {
   "cell_type": "code",
   "execution_count": 43,
   "id": "5653104d",
   "metadata": {},
   "outputs": [],
   "source": [
    "subfinal.loc[(subfinal['age'] >= 40) & (subfinal['age'] < 60), 'age_group'] = 'Mid aged customer'"
   ]
  },
  {
   "cell_type": "code",
   "execution_count": 44,
   "id": "aa526fad",
   "metadata": {},
   "outputs": [],
   "source": [
    "subfinal.loc[subfinal['age'] >= 60, 'age_group'] = 'Older customer'"
   ]
  },
  {
   "cell_type": "code",
   "execution_count": 45,
   "id": "c6575da0",
   "metadata": {},
   "outputs": [
    {
     "data": {
      "text/plain": [
       "Young customer       3203323\n",
       "Older customer       3173591\n",
       "Mid aged customer    2920354\n",
       "Name: age_group, dtype: int64"
      ]
     },
     "execution_count": 45,
     "metadata": {},
     "output_type": "execute_result"
    }
   ],
   "source": [
    "subfinal['age_group'].value_counts(dropna=False)"
   ]
  },
  {
   "cell_type": "markdown",
   "id": "26148d9f",
   "metadata": {},
   "source": [
    "From age perspective, Instacart customers are clearly divided into three equal age groups (no customers below 18 years of age)"
   ]
  },
  {
   "cell_type": "markdown",
   "id": "e7d21b4d",
   "metadata": {},
   "source": [
    "05. Creating a dependants group "
   ]
  },
  {
   "cell_type": "code",
   "execution_count": 46,
   "id": "bdfa98ee",
   "metadata": {},
   "outputs": [
    {
     "name": "stderr",
     "output_type": "stream",
     "text": [
      "C:\\Users\\Paola\\AppData\\Local\\Temp\\ipykernel_14792\\2575766324.py:2: SettingWithCopyWarning: \n",
      "A value is trying to be set on a copy of a slice from a DataFrame.\n",
      "Try using .loc[row_indexer,col_indexer] = value instead\n",
      "\n",
      "See the caveats in the documentation: https://pandas.pydata.org/pandas-docs/stable/user_guide/indexing.html#returning-a-view-versus-a-copy\n",
      "  subfinal.loc[subfinal['dependants'] == 0, 'dependants_category'] = 'No dependants'\n"
     ]
    }
   ],
   "source": [
    "# Creating a 'dependants' flag column based in Customer dependants\n",
    "subfinal.loc[subfinal['dependants'] == 0, 'dependants_category'] = 'No dependants'"
   ]
  },
  {
   "cell_type": "code",
   "execution_count": 47,
   "id": "70ba749b",
   "metadata": {},
   "outputs": [],
   "source": [
    "subfinal.loc[subfinal['dependants'] > 0, 'dependants_category'] = 'Have dependants'"
   ]
  },
  {
   "cell_type": "code",
   "execution_count": 48,
   "id": "01f595fc",
   "metadata": {},
   "outputs": [
    {
     "data": {
      "text/plain": [
       "Have dependants    6972567\n",
       "No dependants      2324701\n",
       "Name: dependants_category, dtype: int64"
      ]
     },
     "execution_count": 48,
     "metadata": {},
     "output_type": "execute_result"
    }
   ],
   "source": [
    "subfinal['dependants_category'].value_counts(dropna=False)"
   ]
  },
  {
   "cell_type": "markdown",
   "id": "42607cde",
   "metadata": {},
   "source": [
    "06. Creating an income group"
   ]
  },
  {
   "cell_type": "code",
   "execution_count": 49,
   "id": "c55d0861",
   "metadata": {},
   "outputs": [
    {
     "data": {
      "text/html": [
       "<div>\n",
       "<style scoped>\n",
       "    .dataframe tbody tr th:only-of-type {\n",
       "        vertical-align: middle;\n",
       "    }\n",
       "\n",
       "    .dataframe tbody tr th {\n",
       "        vertical-align: top;\n",
       "    }\n",
       "\n",
       "    .dataframe thead tr th {\n",
       "        text-align: left;\n",
       "    }\n",
       "\n",
       "    .dataframe thead tr:last-of-type th {\n",
       "        text-align: right;\n",
       "    }\n",
       "</style>\n",
       "<table border=\"1\" class=\"dataframe\">\n",
       "  <thead>\n",
       "    <tr>\n",
       "      <th></th>\n",
       "      <th colspan=\"3\" halign=\"left\">income</th>\n",
       "    </tr>\n",
       "    <tr>\n",
       "      <th></th>\n",
       "      <th>mean</th>\n",
       "      <th>min</th>\n",
       "      <th>max</th>\n",
       "    </tr>\n",
       "    <tr>\n",
       "      <th>user_id</th>\n",
       "      <th></th>\n",
       "      <th></th>\n",
       "      <th></th>\n",
       "    </tr>\n",
       "  </thead>\n",
       "  <tbody>\n",
       "    <tr>\n",
       "      <th>1.0</th>\n",
       "      <td>40423.0</td>\n",
       "      <td>40423</td>\n",
       "      <td>40423</td>\n",
       "    </tr>\n",
       "    <tr>\n",
       "      <th>2.0</th>\n",
       "      <td>64940.0</td>\n",
       "      <td>64940</td>\n",
       "      <td>64940</td>\n",
       "    </tr>\n",
       "    <tr>\n",
       "      <th>3.0</th>\n",
       "      <td>93240.0</td>\n",
       "      <td>93240</td>\n",
       "      <td>93240</td>\n",
       "    </tr>\n",
       "    <tr>\n",
       "      <th>4.0</th>\n",
       "      <td>45435.0</td>\n",
       "      <td>45435</td>\n",
       "      <td>45435</td>\n",
       "    </tr>\n",
       "    <tr>\n",
       "      <th>7.0</th>\n",
       "      <td>89095.0</td>\n",
       "      <td>89095</td>\n",
       "      <td>89095</td>\n",
       "    </tr>\n",
       "    <tr>\n",
       "      <th>...</th>\n",
       "      <td>...</td>\n",
       "      <td>...</td>\n",
       "      <td>...</td>\n",
       "    </tr>\n",
       "    <tr>\n",
       "      <th>206203.0</th>\n",
       "      <td>106730.0</td>\n",
       "      <td>106730</td>\n",
       "      <td>106730</td>\n",
       "    </tr>\n",
       "    <tr>\n",
       "      <th>206206.0</th>\n",
       "      <td>75041.0</td>\n",
       "      <td>75041</td>\n",
       "      <td>75041</td>\n",
       "    </tr>\n",
       "    <tr>\n",
       "      <th>206207.0</th>\n",
       "      <td>110135.0</td>\n",
       "      <td>110135</td>\n",
       "      <td>110135</td>\n",
       "    </tr>\n",
       "    <tr>\n",
       "      <th>206208.0</th>\n",
       "      <td>156838.0</td>\n",
       "      <td>156838</td>\n",
       "      <td>156838</td>\n",
       "    </tr>\n",
       "    <tr>\n",
       "      <th>206209.0</th>\n",
       "      <td>137969.0</td>\n",
       "      <td>137969</td>\n",
       "      <td>137969</td>\n",
       "    </tr>\n",
       "  </tbody>\n",
       "</table>\n",
       "<p>162525 rows × 3 columns</p>\n",
       "</div>"
      ],
      "text/plain": [
       "            income                \n",
       "              mean     min     max\n",
       "user_id                           \n",
       "1.0        40423.0   40423   40423\n",
       "2.0        64940.0   64940   64940\n",
       "3.0        93240.0   93240   93240\n",
       "4.0        45435.0   45435   45435\n",
       "7.0        89095.0   89095   89095\n",
       "...            ...     ...     ...\n",
       "206203.0  106730.0  106730  106730\n",
       "206206.0   75041.0   75041   75041\n",
       "206207.0  110135.0  110135  110135\n",
       "206208.0  156838.0  156838  156838\n",
       "206209.0  137969.0  137969  137969\n",
       "\n",
       "[162525 rows x 3 columns]"
      ]
     },
     "execution_count": 49,
     "metadata": {},
     "output_type": "execute_result"
    }
   ],
   "source": [
    "# Checking the income data of customers. Find out basic statistics.\n",
    "subfinal.groupby('user_id').agg({'income': ['mean', 'min', 'max']})"
   ]
  },
  {
   "cell_type": "code",
   "execution_count": 50,
   "id": "a4a9356a",
   "metadata": {},
   "outputs": [
    {
     "name": "stderr",
     "output_type": "stream",
     "text": [
      "C:\\Users\\Paola\\AppData\\Local\\Temp\\ipykernel_14792\\2609442469.py:2: SettingWithCopyWarning: \n",
      "A value is trying to be set on a copy of a slice from a DataFrame.\n",
      "Try using .loc[row_indexer,col_indexer] = value instead\n",
      "\n",
      "See the caveats in the documentation: https://pandas.pydata.org/pandas-docs/stable/user_guide/indexing.html#returning-a-view-versus-a-copy\n",
      "  subfinal.loc[subfinal['income'] < 50000, 'income_group'] = 'Low income customer'\n"
     ]
    }
   ],
   "source": [
    "# Creating an income flag column based in Customer income\n",
    "subfinal.loc[subfinal['income'] < 50000, 'income_group'] = 'Low income customer'"
   ]
  },
  {
   "cell_type": "code",
   "execution_count": 51,
   "id": "bb1cf8db",
   "metadata": {},
   "outputs": [],
   "source": [
    "subfinal.loc[(subfinal['income'] >= 50000) & (subfinal['income'] < 100000), 'income_group'] = 'Mid income customer'"
   ]
  },
  {
   "cell_type": "code",
   "execution_count": 52,
   "id": "04ee9b81",
   "metadata": {},
   "outputs": [],
   "source": [
    "subfinal.loc[subfinal['income'] >= 100000, 'income_group'] = 'Higher income customer'"
   ]
  },
  {
   "cell_type": "code",
   "execution_count": 53,
   "id": "577ddb32",
   "metadata": {},
   "outputs": [
    {
     "data": {
      "text/plain": [
       "Higher income customer    4264254\n",
       "Mid income customer       4023040\n",
       "Low income customer       1009974\n",
       "Name: income_group, dtype: int64"
      ]
     },
     "execution_count": 53,
     "metadata": {},
     "output_type": "execute_result"
    }
   ],
   "source": [
    "subfinal['income_group'].value_counts(dropna=False)"
   ]
  },
  {
   "cell_type": "markdown",
   "id": "32f0e6a2",
   "metadata": {},
   "source": [
    "Only around 12% of Instacart customers have a lower income. The vast majority (around 88%) have a mid to higher income classification, which means they - potentially - are able to spend more in their grocery shopping. This is valuable data for the marketing team. "
   ]
  },
  {
   "cell_type": "markdown",
   "id": "c7de7233",
   "metadata": {},
   "source": [
    "07. Customers' profile => family status"
   ]
  },
  {
   "cell_type": "code",
   "execution_count": 54,
   "id": "49e04dda",
   "metadata": {},
   "outputs": [
    {
     "name": "stderr",
     "output_type": "stream",
     "text": [
      "C:\\Users\\Paola\\AppData\\Local\\Temp\\ipykernel_14792\\1607934735.py:1: SettingWithCopyWarning: \n",
      "A value is trying to be set on a copy of a slice from a DataFrame.\n",
      "Try using .loc[row_indexer,col_indexer] = value instead\n",
      "\n",
      "See the caveats in the documentation: https://pandas.pydata.org/pandas-docs/stable/user_guide/indexing.html#returning-a-view-versus-a-copy\n",
      "  subfinal.loc[(subfinal['civil_status'] == 'married') & (subfinal['dependants_category'] == 'Have dependants') & (subfinal['age'] >= 40), 'family_situation'] = 'Older parent'\n"
     ]
    }
   ],
   "source": [
    "subfinal.loc[(subfinal['civil_status'] == 'married') & (subfinal['dependants_category'] == 'Have dependants') & (subfinal['age'] >= 40), 'family_situation'] = 'Older parent'"
   ]
  },
  {
   "cell_type": "code",
   "execution_count": 55,
   "id": "7e07296d",
   "metadata": {},
   "outputs": [],
   "source": [
    "subfinal.loc[(subfinal['civil_status'] == 'married') & (subfinal['dependants_category'] == 'Have dependants') & (subfinal['age'] < 40), 'family_situation'] = 'Younger parent'"
   ]
  },
  {
   "cell_type": "code",
   "execution_count": 56,
   "id": "f2678c2a",
   "metadata": {},
   "outputs": [],
   "source": [
    "subfinal.loc[(subfinal['civil_status'] != 'married') & (subfinal['dependants_category'] == 'Have dependants'), 'family_situation'] = 'Single parent'"
   ]
  },
  {
   "cell_type": "code",
   "execution_count": 57,
   "id": "3e4eb7c7",
   "metadata": {},
   "outputs": [],
   "source": [
    "subfinal.loc[(subfinal['civil_status'] != 'married') & (subfinal['dependants_category'] == 'No dependants') & (subfinal['gender'] == 'Male'), 'family_situation'] = 'Single Man'"
   ]
  },
  {
   "cell_type": "code",
   "execution_count": 58,
   "id": "6792570d",
   "metadata": {},
   "outputs": [],
   "source": [
    "subfinal.loc[(subfinal['civil_status'] != 'married') & (subfinal['dependants_category'] == 'No dependants') & (subfinal['gender'] == 'Female'), 'family_situation'] = 'Single Woman'"
   ]
  },
  {
   "cell_type": "code",
   "execution_count": 59,
   "id": "a24c7d4f",
   "metadata": {},
   "outputs": [
    {
     "data": {
      "text/plain": [
       "Older parent      4568276\n",
       "Younger parent    1959083\n",
       "Single Man        1165442\n",
       "Single Woman      1159259\n",
       "Single parent      445208\n",
       "Name: family_situation, dtype: int64"
      ]
     },
     "execution_count": 59,
     "metadata": {},
     "output_type": "execute_result"
    }
   ],
   "source": [
    "subfinal['family_situation'].value_counts(dropna=False)"
   ]
  },
  {
   "cell_type": "code",
   "execution_count": 60,
   "id": "89afd698",
   "metadata": {},
   "outputs": [
    {
     "data": {
      "text/plain": [
       "(9297268,)"
      ]
     },
     "execution_count": 60,
     "metadata": {},
     "output_type": "execute_result"
    }
   ],
   "source": [
    "subfinal['family_situation'].shape"
   ]
  },
  {
   "cell_type": "markdown",
   "id": "472070d5",
   "metadata": {},
   "source": [
    "Older parents (family) account for almost half (49%) of Instacart's customers population. Only 25% of the customers' population are single adults without dependants. In total, 74% of Instacart's customers have dependants, so it is important that the app, groceries and shopping experience be family friendly or oriented."
   ]
  },
  {
   "cell_type": "markdown",
   "id": "ae42e7f2",
   "metadata": {},
   "source": [
    "08. Customers' profile => income status"
   ]
  },
  {
   "cell_type": "code",
   "execution_count": 61,
   "id": "bc7ebab0",
   "metadata": {},
   "outputs": [
    {
     "name": "stderr",
     "output_type": "stream",
     "text": [
      "C:\\Users\\Paola\\AppData\\Local\\Temp\\ipykernel_14792\\322809819.py:1: SettingWithCopyWarning: \n",
      "A value is trying to be set on a copy of a slice from a DataFrame.\n",
      "Try using .loc[row_indexer,col_indexer] = value instead\n",
      "\n",
      "See the caveats in the documentation: https://pandas.pydata.org/pandas-docs/stable/user_guide/indexing.html#returning-a-view-versus-a-copy\n",
      "  subfinal.loc[(subfinal['civil_status'] == 'married') & (subfinal['dependants_category'] == 'Have dependants') & (subfinal['age'] >= 40) & (subfinal['income_group'] == 'Low income customer'), 'income_situation'] = 'Low income older parent'\n"
     ]
    }
   ],
   "source": [
    "subfinal.loc[(subfinal['civil_status'] == 'married') & (subfinal['dependants_category'] == 'Have dependants') & (subfinal['age'] >= 40) & (subfinal['income_group'] == 'Low income customer'), 'income_situation'] = 'Low income older parent'"
   ]
  },
  {
   "cell_type": "code",
   "execution_count": 62,
   "id": "0c1d49cd",
   "metadata": {},
   "outputs": [],
   "source": [
    "subfinal.loc[(subfinal['civil_status'] == 'married') & (subfinal['dependants_category'] == 'Have dependants') & (subfinal['age'] < 40)  & (subfinal['income_group'] == 'Low income customer'), 'income_situation'] = 'Low income younger parent'"
   ]
  },
  {
   "cell_type": "code",
   "execution_count": 63,
   "id": "13f57b21",
   "metadata": {},
   "outputs": [],
   "source": [
    "subfinal.loc[(subfinal['civil_status'] != 'married') & (subfinal['dependants_category'] == 'Have dependants')  & (subfinal['income_group'] == 'Low income customer'), 'income_situation'] = 'Low income single parent'"
   ]
  },
  {
   "cell_type": "code",
   "execution_count": 64,
   "id": "22bdd80e",
   "metadata": {},
   "outputs": [],
   "source": [
    "subfinal.loc[(subfinal['civil_status'] != 'married') & (subfinal['dependants_category'] == 'No dependants') & (subfinal['gender'] == 'Male')  & (subfinal['income_group'] == 'Low income customer'), 'income_situation'] = 'Low income single Man'"
   ]
  },
  {
   "cell_type": "code",
   "execution_count": 65,
   "id": "ac8469d2",
   "metadata": {},
   "outputs": [],
   "source": [
    "subfinal.loc[(subfinal['civil_status'] != 'married') & (subfinal['dependants_category'] == 'No dependants') & (subfinal['gender'] == 'Female')  & (subfinal['income_group'] == 'Low income customer'), 'income_situation'] = 'Low income single woman'"
   ]
  },
  {
   "cell_type": "code",
   "execution_count": 66,
   "id": "2e988a29",
   "metadata": {},
   "outputs": [],
   "source": [
    "subfinal.loc[(subfinal['civil_status'] == 'married') & (subfinal['dependants_category'] == 'Have dependants') & (subfinal['age'] >= 40) & (subfinal['income_group'] == 'Mid income customer'), 'income_situation'] = 'Mid income older parent'"
   ]
  },
  {
   "cell_type": "code",
   "execution_count": 67,
   "id": "759116a8",
   "metadata": {},
   "outputs": [],
   "source": [
    "subfinal.loc[(subfinal['civil_status'] == 'married') & (subfinal['dependants_category'] == 'Have dependants') & (subfinal['age'] < 40)  & (subfinal['income_group'] == 'Mid income customer'), 'income_situation'] = 'Mid income younger parent'"
   ]
  },
  {
   "cell_type": "code",
   "execution_count": 68,
   "id": "4408be72",
   "metadata": {},
   "outputs": [],
   "source": [
    "subfinal.loc[(subfinal['civil_status'] != 'married') & (subfinal['dependants_category'] == 'Have dependants')  & (subfinal['income_group'] == 'Mid income customer'), 'income_situation'] = 'Mid income single parent'"
   ]
  },
  {
   "cell_type": "code",
   "execution_count": 69,
   "id": "3815e020",
   "metadata": {},
   "outputs": [],
   "source": [
    "subfinal.loc[(subfinal['civil_status'] != 'married') & (subfinal['dependants_category'] == 'No dependants') & (subfinal['gender'] == 'Male')  & (subfinal['income_group'] == 'Mid income customer'), 'income_situation'] = 'Mid income single Man'"
   ]
  },
  {
   "cell_type": "code",
   "execution_count": 70,
   "id": "d3002610",
   "metadata": {},
   "outputs": [],
   "source": [
    "subfinal.loc[(subfinal['civil_status'] != 'married') & (subfinal['dependants_category'] == 'No dependants') & (subfinal['gender'] == 'Female')  & (subfinal['income_group'] == 'Mid income customer'), 'income_situation'] = 'Mid income single woman'"
   ]
  },
  {
   "cell_type": "code",
   "execution_count": 71,
   "id": "101618ca",
   "metadata": {},
   "outputs": [],
   "source": [
    "subfinal.loc[(subfinal['civil_status'] == 'married') & (subfinal['dependants_category'] == 'Have dependants') & (subfinal['age'] >= 40) & (subfinal['income_group'] == 'Higher income customer'), 'income_situation'] = 'Higher income older parent'"
   ]
  },
  {
   "cell_type": "code",
   "execution_count": 72,
   "id": "f41e9500",
   "metadata": {},
   "outputs": [],
   "source": [
    "subfinal.loc[(subfinal['civil_status'] == 'married') & (subfinal['dependants_category'] == 'Have dependants') & (subfinal['age'] < 40)  & (subfinal['income_group'] == 'Higher income customer'), 'income_situation'] = 'Higher income younger parent'"
   ]
  },
  {
   "cell_type": "code",
   "execution_count": 73,
   "id": "3e1c49b7",
   "metadata": {},
   "outputs": [],
   "source": [
    "subfinal.loc[(subfinal['civil_status'] != 'married') & (subfinal['dependants_category'] == 'Have dependants')  & (subfinal['income_group'] == 'Higher income customer'), 'income_situation'] = 'Higher income single parent'"
   ]
  },
  {
   "cell_type": "code",
   "execution_count": 74,
   "id": "78728b40",
   "metadata": {},
   "outputs": [],
   "source": [
    "subfinal.loc[(subfinal['civil_status'] != 'married') & (subfinal['dependants_category'] == 'No dependants') & (subfinal['gender'] == 'Male')  & (subfinal['income_group'] == 'Higher income customer'), 'income_situation'] = 'Higher income single Man'"
   ]
  },
  {
   "cell_type": "code",
   "execution_count": 75,
   "id": "e2aac8aa",
   "metadata": {},
   "outputs": [],
   "source": [
    "subfinal.loc[(subfinal['civil_status'] != 'married') & (subfinal['dependants_category'] == 'No dependants') & (subfinal['gender'] == 'Female')  & (subfinal['income_group'] == 'Higher income customer'), 'income_situation'] = 'Higher income single woman'"
   ]
  },
  {
   "cell_type": "code",
   "execution_count": 90,
   "id": "6f1da7bc",
   "metadata": {},
   "outputs": [
    {
     "data": {
      "text/plain": [
       "Higher income older parent      3115212\n",
       "Mid income younger parent       1595117\n",
       "Mid income older parent         1065739\n",
       "Higher income single Man         538670\n",
       "Higher income single woman       532900\n",
       "Mid income single woman          500467\n",
       "Mid income single Man            497436\n",
       "Low income older parent          387325\n",
       "Mid income single parent         364281\n",
       "Low income younger parent        300881\n",
       "Low income single Man            129336\n",
       "Low income single woman          125892\n",
       "Low income single parent          66540\n",
       "Higher income younger parent      63085\n",
       "Higher income single parent       14387\n",
       "Name: income_situation, dtype: int64"
      ]
     },
     "execution_count": 90,
     "metadata": {},
     "output_type": "execute_result"
    }
   ],
   "source": [
    "subfinal['income_situation'].value_counts(dropna=False)"
   ]
  },
  {
   "cell_type": "code",
   "execution_count": 110,
   "id": "2a4970c6",
   "metadata": {},
   "outputs": [],
   "source": [
    "hhHighold = subfinal[subfinal['income_situation']== 'Higher income older parent']\n",
    "hhMidyoung = subfinal[subfinal['income_situation']== 'Mid income younger parent']\n",
    "hhMidold = subfinal[subfinal['income_situation']== 'Mid income older parent']\n",
    "hhHighman = subfinal[subfinal['income_situation']== 'Higher income single Man']\n",
    "hhHighwoman = subfinal[subfinal['income_situation']== 'Higher income single woman']\n",
    "hhMidman = subfinal[subfinal['income_situation']== 'Mid income single Man']\n",
    "hhMidwoman = subfinal[subfinal['income_situation']== 'Mid income single woman']\n",
    "hhLowold = subfinal[subfinal['income_situation']== 'Low income older parent']\n",
    "hhMidsingpa = subfinal[subfinal['income_situation']== 'Mid income single parent']\n",
    "hhLowyoung = subfinal[subfinal['income_situation']== 'Low income younger parent']\n",
    "hhLowman = subfinal[subfinal['income_situation']== 'Low income single Man']\n",
    "hhLowwoman = subfinal[subfinal['income_situation']== 'Low income single woman']\n",
    "hhLowsingpa = subfinal[subfinal['income_situation']== 'Low income single parent']\n",
    "hhHighyoun = subfinal[subfinal['income_situation']== 'Higher income younger parent']\n",
    "hhHighsingpa = subfinal[subfinal['income_situation']== 'Higher income single parent']\n"
   ]
  },
  {
   "cell_type": "code",
   "execution_count": 114,
   "id": "7c5272d7",
   "metadata": {},
   "outputs": [
    {
     "data": {
      "image/png": "[encoded data removed]",
      "text/plain": [
       "<Figure size 640x480 with 1 Axes>"
      ]
     },
     "metadata": {},
     "output_type": "display_data"
    }
   ],
   "source": [
    "bar6 = hhLowman['department'].value_counts().plot.barh(color = ['violet', 'gold'], title = 'Low income single man buying trend')"
   ]
  },
  {
   "cell_type": "code",
   "execution_count": 97,
   "id": "09769196",
   "metadata": {},
   "outputs": [
    {
     "data": {
      "text/plain": [
       "(9297268,)"
      ]
     },
     "execution_count": 97,
     "metadata": {},
     "output_type": "execute_result"
    }
   ],
   "source": [
    "subfinal['income_situation'].shape"
   ]
  },
  {
   "cell_type": "markdown",
   "id": "b4f7f8ae",
   "metadata": {},
   "source": [
    "The ‘Older parents’ group (High earners at 33.5% and Mid earners at 11.5%, total of 45% of all customers) are the most valuable clients for Instacart, due to their financial resources. They are followed by ‘Mid earners youner parents’ at 17.2%, and then by single adults (both men and women, each at around 11.1% between high and mid earners, or 22.2% in total).   These three groups alone comprise 84.4% of Instacart customers."
   ]
  },
  {
   "cell_type": "markdown",
   "id": "fe3b8d93",
   "metadata": {},
   "source": [
    "09. Day of the week purchases data"
   ]
  },
  {
   "cell_type": "code",
   "execution_count": 78,
   "id": "5f6e272b",
   "metadata": {},
   "outputs": [
    {
     "data": {
      "text/plain": [
       "0.0    1774310\n",
       "1.0    1624736\n",
       "6.0    1289677\n",
       "5.0    1212044\n",
       "2.0    1206392\n",
       "3.0    1101736\n",
       "4.0    1088373\n",
       "Name: orders_day_of_week, dtype: int64"
      ]
     },
     "execution_count": 78,
     "metadata": {},
     "output_type": "execute_result"
    }
   ],
   "source": [
    "subfinal['orders_day_of_week'].value_counts(dropna=False)"
   ]
  },
  {
   "cell_type": "code",
   "execution_count": 79,
   "id": "fd1d2287",
   "metadata": {},
   "outputs": [],
   "source": [
    "result = []\n",
    "\n",
    "for value in subfinal[\"orders_day_of_week\"]:\n",
    "  if value == 0:\n",
    "    result.append(\"Weekend day\")\n",
    "  elif value == 1:\n",
    "    result.append(\"Weekend day\")\n",
    "  else:\n",
    "    result.append(\"Week day\")"
   ]
  },
  {
   "cell_type": "code",
   "execution_count": 80,
   "id": "b72d7a0c",
   "metadata": {},
   "outputs": [
    {
     "name": "stderr",
     "output_type": "stream",
     "text": [
      "C:\\Users\\Paola\\AppData\\Local\\Temp\\ipykernel_716\\2616528217.py:1: SettingWithCopyWarning: \n",
      "A value is trying to be set on a copy of a slice from a DataFrame.\n",
      "Try using .loc[row_indexer,col_indexer] = value instead\n",
      "\n",
      "See the caveats in the documentation: https://pandas.pydata.org/pandas-docs/stable/user_guide/indexing.html#returning-a-view-versus-a-copy\n",
      "  subfinal['busiest_period_week'] = result\n"
     ]
    }
   ],
   "source": [
    "subfinal['busiest_period_week'] = result"
   ]
  },
  {
   "cell_type": "code",
   "execution_count": 81,
   "id": "9b9a7845",
   "metadata": {},
   "outputs": [
    {
     "data": {
      "text/plain": [
       "Week day       5898222\n",
       "Weekend day    3399046\n",
       "Name: busiest_period_week, dtype: int64"
      ]
     },
     "execution_count": 81,
     "metadata": {},
     "output_type": "execute_result"
    }
   ],
   "source": [
    "subfinal['busiest_period_week'].value_counts(dropna=False)"
   ]
  },
  {
   "cell_type": "markdown",
   "id": "88a865b8",
   "metadata": {},
   "source": [
    "10. Hour of day purchases data"
   ]
  },
  {
   "cell_type": "code",
   "execution_count": 82,
   "id": "cb02887f",
   "metadata": {},
   "outputs": [
    {
     "name": "stderr",
     "output_type": "stream",
     "text": [
      "C:\\Users\\Paola\\AppData\\Local\\Temp\\ipykernel_716\\424707062.py:1: SettingWithCopyWarning: \n",
      "A value is trying to be set on a copy of a slice from a DataFrame.\n",
      "Try using .loc[row_indexer,col_indexer] = value instead\n",
      "\n",
      "See the caveats in the documentation: https://pandas.pydata.org/pandas-docs/stable/user_guide/indexing.html#returning-a-view-versus-a-copy\n",
      "  subfinal.loc[(subfinal['order_hour_of_day'] >= 0) & (subfinal['order_hour_of_day'] <= 6), 'busiest_period_day'] = 'Unsociable hours'\n"
     ]
    }
   ],
   "source": [
    "subfinal.loc[(subfinal['order_hour_of_day'] >= 0) & (subfinal['order_hour_of_day'] <= 6), 'busiest_period_day'] = 'Unsociable hours'"
   ]
  },
  {
   "cell_type": "code",
   "execution_count": 83,
   "id": "a7332599",
   "metadata": {},
   "outputs": [],
   "source": [
    "subfinal.loc[(subfinal['order_hour_of_day'] >= 7) & (subfinal['order_hour_of_day'] <= 12), 'busiest_period_day'] = 'Morning hours'"
   ]
  },
  {
   "cell_type": "code",
   "execution_count": 84,
   "id": "9efbe30e",
   "metadata": {},
   "outputs": [],
   "source": [
    "subfinal.loc[(subfinal['order_hour_of_day'] >= 13) & (subfinal['order_hour_of_day'] <= 18), 'busiest_period_day'] = 'Afternoon hours'"
   ]
  },
  {
   "cell_type": "code",
   "execution_count": 85,
   "id": "c2d278f5",
   "metadata": {},
   "outputs": [],
   "source": [
    "subfinal.loc[(subfinal['order_hour_of_day'] >= 19) & (subfinal['order_hour_of_day'] <= 23), 'busiest_period_day'] = 'Evening hours'"
   ]
  },
  {
   "cell_type": "code",
   "execution_count": 86,
   "id": "311597e6",
   "metadata": {},
   "outputs": [
    {
     "data": {
      "text/plain": [
       "Afternoon hours     4078105\n",
       "Morning hours       3798227\n",
       "Evening hours       1165807\n",
       "Unsociable hours     255129\n",
       "Name: busiest_period_day, dtype: int64"
      ]
     },
     "execution_count": 86,
     "metadata": {},
     "output_type": "execute_result"
    }
   ],
   "source": [
    "subfinal['busiest_period_day'].value_counts(dropna=False)"
   ]
  },
  {
   "cell_type": "markdown",
   "id": "01dcd040",
   "metadata": {},
   "source": [
    "11. Exporting prepared subset to file"
   ]
  },
  {
   "cell_type": "code",
   "execution_count": 87,
   "id": "be560c28",
   "metadata": {},
   "outputs": [],
   "source": [
    "subfinal.to_pickle(os.path.join(path, '2-Data','Prepared Data', 'subfinal.pkl'))"
   ]
  }
 ],
 "metadata": {
  "kernelspec": {
   "display_name": "Python 3 (ipykernel)",
   "language": "python",
   "name": "python3"
  },
  "language_info": {
   "codemirror_mode": {
    "name": "ipython",
    "version": 3
   },
   "file_extension": ".py",
   "mimetype": "text/x-python",
   "name": "python",
   "nbconvert_exporter": "python",
   "pygments_lexer": "ipython3",
   "version": "3.11.3"
  }
 },
 "nbformat": 4,
 "nbformat_minor": 5
}
