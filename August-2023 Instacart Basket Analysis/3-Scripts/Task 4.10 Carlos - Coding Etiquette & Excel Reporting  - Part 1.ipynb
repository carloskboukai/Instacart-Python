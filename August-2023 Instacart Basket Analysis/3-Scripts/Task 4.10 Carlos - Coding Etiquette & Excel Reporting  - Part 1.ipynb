{
 "cells": [
  {
   "cell_type": "markdown",
   "id": "21a18a76",
   "metadata": {},
   "source": [
    "This Notebook contains the following contents:\n",
    "\n",
    "01 - Importing libraries\n",
    "\n",
    "02 - Establishing a path and importing the dataframe\n",
    "\n",
    "03 - Dealing with PII issues\n",
    "\n",
    "04 - Comparing behaviour in different geographical areas \n",
    "\n",
    "05 - Locating and excluding low activity customers from the data frame (data exported to file)\n"
   ]
  },
  {
   "cell_type": "markdown",
   "id": "254409b4",
   "metadata": {},
   "source": [
    "0.1 Starting new notebook"
   ]
  },
  {
   "cell_type": "code",
   "execution_count": 1,
   "id": "1189422a",
   "metadata": {},
   "outputs": [],
   "source": [
    "# Importing Analitycal and Visual libraries\n",
    "import pandas as pd\n",
    "import numpy as np\n",
    "import os\n",
    "import matplotlib.pyplot as plt\n",
    "import seaborn as sns\n",
    "import scipy"
   ]
  },
  {
   "cell_type": "markdown",
   "id": "3da52db9",
   "metadata": {},
   "source": [
    "02. Establishing path and importing dataframe"
   ]
  },
  {
   "cell_type": "code",
   "execution_count": 2,
   "id": "46cbb5bf",
   "metadata": {},
   "outputs": [],
   "source": [
    "# Establishing a path to import data frames\n",
    "path = r'C:\\Users\\Paola\\Desktop\\Shaul\\Data\\CF\\August-2023 Instacart Basket Analysis'"
   ]
  },
  {
   "cell_type": "code",
   "execution_count": 3,
   "id": "fd5bf930",
   "metadata": {},
   "outputs": [
    {
     "data": {
      "text/plain": [
       "'C:\\\\Users\\\\Paola\\\\Desktop\\\\Shaul\\\\Data\\\\CF\\\\August-2023 Instacart Basket Analysis'"
      ]
     },
     "execution_count": 3,
     "metadata": {},
     "output_type": "execute_result"
    }
   ],
   "source": [
    "path"
   ]
  },
  {
   "cell_type": "code",
   "execution_count": 4,
   "id": "6553b929",
   "metadata": {},
   "outputs": [],
   "source": [
    "# Importing 'orders_products_variablesfixed.pkl' data set\n",
    "dfready = pd.read_pickle(os.path.join(path, '2-Data', 'Prepared Data', 'orders_products_customers.pkl'))"
   ]
  },
  {
   "cell_type": "code",
   "execution_count": 13,
   "id": "ec5a4810",
   "metadata": {},
   "outputs": [
    {
     "data": {
      "text/plain": [
       "order_id                      0\n",
       "user_id                       0\n",
       "order_number                  0\n",
       "orders_day_of_week            0\n",
       "order_hour_of_day             0\n",
       "days_since_prior_order        0\n",
       "product_id                    0\n",
       "add_to_cart_order             0\n",
       "reordered                     0\n",
       "product_name              30200\n",
       "aisle_id                  30200\n",
       "department_id             30200\n",
       "prices                    30200\n",
       "price_range_loc           30200\n",
       "Busiest days                  0\n",
       "Busiest hours                 0\n",
       "max_order                     0\n",
       "loyalty_flag                  0\n",
       "avg_prices                    0\n",
       "spending_flag                 0\n",
       "median_prior_order            0\n",
       "frequency_flag                0\n",
       "gender                        0\n",
       "state                         0\n",
       "age                           0\n",
       "dependants                    0\n",
       "civil_status                  0\n",
       "income                        0\n",
       "dtype: int64"
      ]
     },
     "execution_count": 13,
     "metadata": {},
     "output_type": "execute_result"
    }
   ],
   "source": [
    "# Viewing the missing values\n",
    "dfready.isnull().sum()"
   ]
  },
  {
   "cell_type": "code",
   "execution_count": 14,
   "id": "ab8deeb8",
   "metadata": {},
   "outputs": [],
   "source": [
    "# Looking for duplicates\n",
    "df_dups = dfready[dfready.duplicated()]"
   ]
  },
  {
   "cell_type": "code",
   "execution_count": 15,
   "id": "bf6e02eb",
   "metadata": {},
   "outputs": [
    {
     "data": {
      "text/html": [
       "<div>\n",
       "<style scoped>\n",
       "    .dataframe tbody tr th:only-of-type {\n",
       "        vertical-align: middle;\n",
       "    }\n",
       "\n",
       "    .dataframe tbody tr th {\n",
       "        vertical-align: top;\n",
       "    }\n",
       "\n",
       "    .dataframe thead th {\n",
       "        text-align: right;\n",
       "    }\n",
       "</style>\n",
       "<table border=\"1\" class=\"dataframe\">\n",
       "  <thead>\n",
       "    <tr style=\"text-align: right;\">\n",
       "      <th></th>\n",
       "      <th>order_id</th>\n",
       "      <th>user_id</th>\n",
       "      <th>order_number</th>\n",
       "      <th>orders_day_of_week</th>\n",
       "      <th>order_hour_of_day</th>\n",
       "      <th>days_since_prior_order</th>\n",
       "      <th>product_id</th>\n",
       "      <th>add_to_cart_order</th>\n",
       "      <th>reordered</th>\n",
       "      <th>product_name</th>\n",
       "      <th>...</th>\n",
       "      <th>avg_prices</th>\n",
       "      <th>spending_flag</th>\n",
       "      <th>median_prior_order</th>\n",
       "      <th>frequency_flag</th>\n",
       "      <th>gender</th>\n",
       "      <th>state</th>\n",
       "      <th>age</th>\n",
       "      <th>dependants</th>\n",
       "      <th>civil_status</th>\n",
       "      <th>income</th>\n",
       "    </tr>\n",
       "  </thead>\n",
       "  <tbody>\n",
       "  </tbody>\n",
       "</table>\n",
       "<p>0 rows × 28 columns</p>\n",
       "</div>"
      ],
      "text/plain": [
       "Empty DataFrame\n",
       "Columns: [order_id, user_id, order_number, orders_day_of_week, order_hour_of_day, days_since_prior_order, product_id, add_to_cart_order, reordered, product_name, aisle_id, department_id, prices, price_range_loc, Busiest days, Busiest hours, max_order, loyalty_flag, avg_prices, spending_flag, median_prior_order, frequency_flag, gender, state, age, dependants, civil_status, income]\n",
       "Index: []\n",
       "\n",
       "[0 rows x 28 columns]"
      ]
     },
     "execution_count": 15,
     "metadata": {},
     "output_type": "execute_result"
    }
   ],
   "source": [
    "df_dups"
   ]
  },
  {
   "cell_type": "markdown",
   "id": "300201dc",
   "metadata": {},
   "source": [
    "No duplicates. Missing values are less than 0.09% of the data and cannot be imputated. Left as it is since it does not influence the overal analysis of the data."
   ]
  },
  {
   "cell_type": "markdown",
   "id": "5ae0a48f",
   "metadata": {},
   "source": [
    "03. Dealing with PII issues"
   ]
  },
  {
   "cell_type": "code",
   "execution_count": 5,
   "id": "f1964582",
   "metadata": {},
   "outputs": [
    {
     "data": {
      "text/plain": [
       "Index(['order_id', 'user_id', 'order_number', 'orders_day_of_week',\n",
       "       'order_hour_of_day', 'days_since_prior_order', 'product_id',\n",
       "       'add_to_cart_order', 'reordered', 'product_name', 'aisle_id',\n",
       "       'department_id', 'prices', 'price_range_loc', 'Busiest days',\n",
       "       'Busiest hours', 'max_order', 'loyalty_flag', 'avg_prices',\n",
       "       'spending_flag', 'median_prior_order', 'frequency_flag', 'gender',\n",
       "       'state', 'age', 'dependants', 'civil_status', 'income'],\n",
       "      dtype='object')"
      ]
     },
     "execution_count": 5,
     "metadata": {},
     "output_type": "execute_result"
    }
   ],
   "source": [
    "dfready.columns"
   ]
  },
  {
   "cell_type": "markdown",
   "id": "b393cd0f",
   "metadata": {},
   "source": [
    "PII issues: in the original dataframe, there were two additional columns: 'first_name' and 'last_name' which would allow us to identify particular customers. However, I have identified, then, that there were 11259 missing values in the 'first_name' columns. While it is possible to look into those missing values and replace them (by creating a subset with 'user@id', 'first_name' and 'last_name' columns to look it up), it is time consuming and would not particularly add much to the overall value of the analysis. Hence, these two columns were removed from the new 'dfready' dataframe (although they were kept in the original data set), so the new data is now more secure."
   ]
  },
  {
   "cell_type": "markdown",
   "id": "57f512e6",
   "metadata": {},
   "source": [
    "04. The Instacart officers are interested in comparing customer behavior in different geographic areas. Create a regional segmentation of the data."
   ]
  },
  {
   "cell_type": "code",
   "execution_count": 6,
   "id": "32262780",
   "metadata": {},
   "outputs": [],
   "source": [
    "# Creating 'region' column\n",
    "Northeast =['Maine', 'New Hampshire', 'Vermont', 'Massachusetts', 'Rhode Island', 'Connecticut', 'New York', 'Pennsylvania', 'New Jersey']\n",
    "Midwest = ['Wisconsin', 'Michigan','Illinois', 'Indiana', 'Ohio', 'North Dakota', 'South Dakota', 'Nebraska', 'Kansas', 'Minnesota', 'Iowa', 'Missouri']\n",
    "South = ['Delaware', 'Maryland', 'District of Columbia', 'Virginia', 'West Virginia', 'North Carolina', 'South Carolina', 'Georgia', 'Florida', 'Kentucky', 'Tennessee', 'Mississippi', 'Alabama', 'Oklahoma', 'Texas', 'Arkansas', 'Louisiana']\n",
    "West = ['Idaho', 'Montana', 'Wyoming', 'Nevada', 'Utah', 'Colorado', 'Arizona', 'New Mexico', 'Alaska', 'Washington', 'Oregon', 'California', 'Hawaii']"
   ]
  },
  {
   "cell_type": "code",
   "execution_count": 7,
   "id": "a8749d48",
   "metadata": {},
   "outputs": [],
   "source": [
    "dfready.loc[dfready['state'].isin(Northeast), 'region'] = 'Northeast'"
   ]
  },
  {
   "cell_type": "code",
   "execution_count": 8,
   "id": "56a98c33",
   "metadata": {},
   "outputs": [],
   "source": [
    "dfready.loc[dfready['state'].isin(Midwest), 'region'] = 'Midwest'"
   ]
  },
  {
   "cell_type": "code",
   "execution_count": 9,
   "id": "47a0981b",
   "metadata": {},
   "outputs": [],
   "source": [
    "dfready.loc[dfready['state'].isin(South), 'region'] = 'South'"
   ]
  },
  {
   "cell_type": "code",
   "execution_count": 10,
   "id": "050b1c5e",
   "metadata": {},
   "outputs": [],
   "source": [
    "dfready.loc[dfready['state'].isin(West), 'region'] = 'West'"
   ]
  },
  {
   "cell_type": "code",
   "execution_count": 11,
   "id": "9d22c120",
   "metadata": {},
   "outputs": [
    {
     "data": {
      "text/plain": [
       "0       South\n",
       "1       South\n",
       "2       South\n",
       "3       South\n",
       "4       South\n",
       "       ...   \n",
       "95    Midwest\n",
       "96    Midwest\n",
       "97    Midwest\n",
       "98    Midwest\n",
       "99    Midwest\n",
       "Name: region, Length: 100, dtype: object"
      ]
     },
     "execution_count": 11,
     "metadata": {},
     "output_type": "execute_result"
    }
   ],
   "source": [
    "dfready['region'].head(100)"
   ]
  },
  {
   "cell_type": "code",
   "execution_count": 12,
   "id": "d6f8d422",
   "metadata": {},
   "outputs": [
    {
     "data": {
      "text/plain": [
       "South        10801982\n",
       "West          8300617\n",
       "Midwest       7604016\n",
       "Northeast     5728444\n",
       "Name: region, dtype: int64"
      ]
     },
     "execution_count": 12,
     "metadata": {},
     "output_type": "execute_result"
    }
   ],
   "source": [
    "dfready['region'].value_counts(dropna=False)"
   ]
  },
  {
   "cell_type": "code",
   "execution_count": 13,
   "id": "404daff5",
   "metadata": {},
   "outputs": [],
   "source": [
    "# Checking spending habits of different regions\n",
    "crosstab = pd.crosstab(dfready['spending_flag'], dfready['region'], dropna = False)"
   ]
  },
  {
   "cell_type": "code",
   "execution_count": 14,
   "id": "f1236e4c",
   "metadata": {},
   "outputs": [],
   "source": [
    "crosstab.to_clipboard()"
   ]
  },
  {
   "cell_type": "markdown",
   "id": "77628f3e",
   "metadata": {},
   "source": [
    "Results: The 'South' region has the highest count value among all regions (33%), followed by the 'West (26%), 'Midwest' (23%), and finally by the 'Northeast' (18%).\n",
    "However, when comparing - proportionally - the numbers of High and Low spender customers, all regions came up with the same results: only 2% of their customers are High spenders, while the vast majority (98%) are Low spenders. One one hand, this means (from a marketing perspective) that all regions are ought to be approached with the same priority, as they are pron to give the similar results (proportionally). However, this also means that these regions will have a capital return similar to their proportions, with the South being the highest return."
   ]
  },
  {
   "cell_type": "markdown",
   "id": "3979bdf2",
   "metadata": {},
   "source": [
    "05. The Instacart CFO isn’t interested in customers who don’t generate much revenue for the app. Create an exclusion flag for low-activity customers (customers with less than 5 orders) and exclude them from the data. Make sure you export this sample."
   ]
  },
  {
   "cell_type": "code",
   "execution_count": 15,
   "id": "f2114047",
   "metadata": {},
   "outputs": [],
   "source": [
    "# Creating an exclusion flag column based in Customer loyalty\n",
    "dfready.loc[dfready['max_order'] > 4, 'exclusion_flag'] = 'normal customer'"
   ]
  },
  {
   "cell_type": "code",
   "execution_count": 16,
   "id": "0b4b4e97",
   "metadata": {},
   "outputs": [],
   "source": [
    "dfready.loc[dfready['max_order'] <= 4, 'exclusion_flag'] = 'low activity customer'"
   ]
  },
  {
   "cell_type": "code",
   "execution_count": 21,
   "id": "f8097401",
   "metadata": {},
   "outputs": [
    {
     "data": {
      "text/plain": [
       "normal customer    30993489\n",
       "Name: exclusion_flag, dtype: int64"
      ]
     },
     "execution_count": 21,
     "metadata": {},
     "output_type": "execute_result"
    }
   ],
   "source": [
    "dfready['exclusion_flag'].value_counts(dropna=False)"
   ]
  },
  {
   "cell_type": "code",
   "execution_count": 22,
   "id": "af8033db",
   "metadata": {},
   "outputs": [],
   "source": [
    "# Creating a subset to export low activity customers' data to file\n",
    "dfready_low =  dfready[dfready['exclusion_flag']=='low activity customer']"
   ]
  },
  {
   "cell_type": "code",
   "execution_count": 24,
   "id": "8c0518c4",
   "metadata": {},
   "outputs": [],
   "source": [
    "# Exporting data to file\n",
    "dfready_low.to_pickle(os.path.join(path, '2-Data','Prepared Data', 'low_activity_customers_data.pkl'))"
   ]
  },
  {
   "cell_type": "code",
   "execution_count": 25,
   "id": "aa62e2a5",
   "metadata": {},
   "outputs": [],
   "source": [
    "# Deleting low activity customers' data from general dataframe\n",
    "dfready = dfready[dfready.exclusion_flag != 'low activity customer']"
   ]
  },
  {
   "cell_type": "code",
   "execution_count": 26,
   "id": "00110e7c",
   "metadata": {},
   "outputs": [
    {
     "data": {
      "text/plain": [
       "(30993489, 30)"
      ]
     },
     "execution_count": 26,
     "metadata": {},
     "output_type": "execute_result"
    }
   ],
   "source": [
    "# Low customers' data removed correctly from dataframe\n",
    "dfready.shape"
   ]
  },
  {
   "cell_type": "code",
   "execution_count": 27,
   "id": "def9168b",
   "metadata": {},
   "outputs": [],
   "source": [
    "# Exporting update dataframe to file\n",
    "dfready.to_pickle(os.path.join(path, '2-Data','Prepared Data', 'orders_products_customers_updated.pkl'))"
   ]
  },
  {
   "cell_type": "code",
   "execution_count": null,
   "id": "9820f073",
   "metadata": {},
   "outputs": [],
   "source": []
  }
 ],
 "metadata": {
  "kernelspec": {
   "display_name": "Python 3 (ipykernel)",
   "language": "python",
   "name": "python3"
  },
  "language_info": {
   "codemirror_mode": {
    "name": "ipython",
    "version": 3
   },
   "file_extension": ".py",
   "mimetype": "text/x-python",
   "name": "python",
   "nbconvert_exporter": "python",
   "pygments_lexer": "ipython3",
   "version": "3.11.3"
  }
 },
 "nbformat": 4,
 "nbformat_minor": 5
}
